{
 "cells": [
  {
   "cell_type": "markdown",
   "metadata": {},
   "source": [
    "# Proyecto práctico\n",
    "\n",
    "## Unidad 3 - Aprendizaje supervisado\n",
    "\n",
    "El proyecto práctico consiste en abordar un problema de clasificación de documentos textuales. Tenemos a nuestra disposición un dataset de noticias de prensa en español publicada por el medio \"CNN Chile\".\n",
    "\n",
    "Las noticias están divididas en 7 categorías temáticas: *'pais','deportes','tendencias','tecnologias','cultura','economia','mundo'*\n",
    "\n",
    "El proyecto se divide en dos partes:\n",
    "\n",
    "- Utilizar al menos 3 estrategías para entrenar modelos de clasificación capaces de clasificar las noticias según su categoría temática.\n",
    "\n",
    "- Explorar cuáles son las características que permiten explicar las decisiones de su modelo.\n",
    "\n",
    "## 0. Evaluación\n",
    "\n",
    "El proyecto se realiza de forma individual. Se entrega a más tardar el **lunes 30 de noviembre** en su repositorio GitHub.\n",
    "\n",
    "**Pauta de evaluación:**\n",
    "\n",
    "Competencia 1: Aplicar un protocolo de aprendizaje supervisado para resolver un problema clasificación estandar, utilizando un entorno de programación en Python\n",
    "\n",
    "- < 2 : El protocolo de aprendizaje supervisado utilizado es incompleto y/o presenta errores importantes\n",
    "- 2 a 3.9 : El protocolo de aprendizaje supervisado utilizado es incompleto o presenta un error importante\n",
    "- 4 a 5.5 : El protocolo de aprendizaje es completo, no tiene error, pero las estrategias utilizadas son relativamente simples y el rendimiento de los modelos es perfectible.\n",
    "- 5.6 a 7.0 : El protocolo de aprendizaje es completo, no tiene error y al menos una de las estrategias utilizadas a necesitado un trabajado más avanzado y/o permite obtener un mejor rendimiento.\n",
    "\n",
    "Competencia 2: Explicar el rendimiento de un modelo de clasificación aplicando un protocolo de evaluación Precision/Recall/F-Score\n",
    "\n",
    "- < 2 : El trabajo no presenta explicaciones del rendimiento de los modelos de clasificación\n",
    "- 2 a 3.9 : El trabajo presenta algunas explicaciones pero tienen errores.\n",
    "- 4 a 5.5 : El trabajo presenta explicaciones correctas del rendimiento de los modelos\n",
    "- 5.6 a 7 : El trabajo presenta explicaciones correctas del rendimiento de los modelos y además presenta un método para explicar las decisiones/errores\n"
   ]
  },
  {
   "cell_type": "markdown",
   "metadata": {},
   "source": [
    "## 1. Dataset"
   ]
  },
  {
   "cell_type": "code",
   "execution_count": 113,
   "metadata": {},
   "outputs": [
    {
     "data": {
      "text/html": [
       "<div>\n",
       "<style scoped>\n",
       "    .dataframe tbody tr th:only-of-type {\n",
       "        vertical-align: middle;\n",
       "    }\n",
       "\n",
       "    .dataframe tbody tr th {\n",
       "        vertical-align: top;\n",
       "    }\n",
       "\n",
       "    .dataframe thead th {\n",
       "        text-align: right;\n",
       "    }\n",
       "</style>\n",
       "<table border=\"1\" class=\"dataframe\">\n",
       "  <thead>\n",
       "    <tr style=\"text-align: right;\">\n",
       "      <th></th>\n",
       "      <th>country</th>\n",
       "      <th>media_outlet</th>\n",
       "      <th>url</th>\n",
       "      <th>title</th>\n",
       "      <th>text</th>\n",
       "      <th>date</th>\n",
       "      <th>category</th>\n",
       "    </tr>\n",
       "  </thead>\n",
       "  <tbody>\n",
       "    <tr>\n",
       "      <th>0</th>\n",
       "      <td>chile</td>\n",
       "      <td>cnnchile</td>\n",
       "      <td>https://www.cnnchile.com/pais/pdta-del-colegio...</td>\n",
       "      <td>Pdta. del Colegio de Matronas explicó los ries...</td>\n",
       "      <td>La Federación de Estudiantes de la Universidad...</td>\n",
       "      <td>2018-03-29 00:00:00.000000</td>\n",
       "      <td>pais</td>\n",
       "    </tr>\n",
       "    <tr>\n",
       "      <th>1</th>\n",
       "      <td>chile</td>\n",
       "      <td>cnnchile</td>\n",
       "      <td>https://www.cnnchile.com/pais/defensoria-ninez...</td>\n",
       "      <td>Defensoría de la Niñez pide al Estado velar po...</td>\n",
       "      <td>La Defensoría de la Niñez emitió este domingo ...</td>\n",
       "      <td>2020-08-02 00:00:00.000000</td>\n",
       "      <td>pais</td>\n",
       "    </tr>\n",
       "    <tr>\n",
       "      <th>2</th>\n",
       "      <td>chile</td>\n",
       "      <td>cnnchile</td>\n",
       "      <td>https://www.cnnchile.com/pais/cuanto-les-pagar...</td>\n",
       "      <td>¿Cuánto les pagarán a los vocales de mesa?</td>\n",
       "      <td>El monto del bono es de dos tercios de Unidad ...</td>\n",
       "      <td>2016-10-20 00:00:00.000000</td>\n",
       "      <td>pais</td>\n",
       "    </tr>\n",
       "    <tr>\n",
       "      <th>3</th>\n",
       "      <td>chile</td>\n",
       "      <td>cnnchile</td>\n",
       "      <td>https://www.cnnchile.com/pais/sobrino-de-aleja...</td>\n",
       "      <td>Sobrino de Alejandro Navarro intenta “funar” e...</td>\n",
       "      <td>Una nueva polémica tiene esta carrera presiden...</td>\n",
       "      <td>2017-11-13 00:00:00.000000</td>\n",
       "      <td>pais</td>\n",
       "    </tr>\n",
       "    <tr>\n",
       "      <th>4</th>\n",
       "      <td>chile</td>\n",
       "      <td>cnnchile</td>\n",
       "      <td>https://www.cnnchile.com/pais/analisis-sobre-e...</td>\n",
       "      <td>Análisis sobre el aumento de impuestos para al...</td>\n",
       "      <td>Especialistas recomiendan no consumir más de 2...</td>\n",
       "      <td>2014-05-05 00:00:00.000000</td>\n",
       "      <td>pais</td>\n",
       "    </tr>\n",
       "    <tr>\n",
       "      <th>...</th>\n",
       "      <td>...</td>\n",
       "      <td>...</td>\n",
       "      <td>...</td>\n",
       "      <td>...</td>\n",
       "      <td>...</td>\n",
       "      <td>...</td>\n",
       "      <td>...</td>\n",
       "    </tr>\n",
       "    <tr>\n",
       "      <th>6995</th>\n",
       "      <td>chile</td>\n",
       "      <td>cnnchile</td>\n",
       "      <td>https://www.cnnchile.com/tecnologias/playstati...</td>\n",
       "      <td>PlayStation 5 vs Xbox Series X: Mira la compar...</td>\n",
       "      <td>Las compañías ya han revelado muchos detalles ...</td>\n",
       "      <td>2020-09-18 00:00:00.000000</td>\n",
       "      <td>tecnologias</td>\n",
       "    </tr>\n",
       "    <tr>\n",
       "      <th>6996</th>\n",
       "      <td>chile</td>\n",
       "      <td>cnnchile</td>\n",
       "      <td>https://www.cnnchile.com/tecnologias/android-l...</td>\n",
       "      <td>Android le dará “una paliza” a Windows en 2013</td>\n",
       "      <td>Se proyecta que tras un virtual empate en 2012...</td>\n",
       "      <td>2013-04-04 00:00:00.000000</td>\n",
       "      <td>tecnologias</td>\n",
       "    </tr>\n",
       "    <tr>\n",
       "      <th>6997</th>\n",
       "      <td>chile</td>\n",
       "      <td>cnnchile</td>\n",
       "      <td>https://www.cnnchile.com/tecnologias/regalos-t...</td>\n",
       "      <td>Regalos tecnológicos marcaron pauta en Navidad</td>\n",
       "      <td>Tablets y smartphones fueron los regalos tecno...</td>\n",
       "      <td>2012-12-26 00:00:00.000000</td>\n",
       "      <td>tecnologias</td>\n",
       "    </tr>\n",
       "    <tr>\n",
       "      <th>6998</th>\n",
       "      <td>chile</td>\n",
       "      <td>cnnchile</td>\n",
       "      <td>https://www.cnnchile.com/tecnologias/jugar-con...</td>\n",
       "      <td>Jugar con Fox en Starlink vale totalmente la p...</td>\n",
       "      <td>Crecí jugando clásicos de naves como Terminal ...</td>\n",
       "      <td>2018-10-30 00:00:00.000000</td>\n",
       "      <td>tecnologias</td>\n",
       "    </tr>\n",
       "    <tr>\n",
       "      <th>6999</th>\n",
       "      <td>chile</td>\n",
       "      <td>cnnchile</td>\n",
       "      <td>https://www.cnnchile.com/tecnologias/konami-la...</td>\n",
       "      <td>Konami lanza PES 2018 de forma gratuita para i...</td>\n",
       "      <td>Konami Digital Entertainment ha anunciado que ...</td>\n",
       "      <td>2017-11-10 00:00:00.000000</td>\n",
       "      <td>tecnologias</td>\n",
       "    </tr>\n",
       "  </tbody>\n",
       "</table>\n",
       "<p>7000 rows × 7 columns</p>\n",
       "</div>"
      ],
      "text/plain": [
       "     country media_outlet                                                url  \\\n",
       "0      chile     cnnchile  https://www.cnnchile.com/pais/pdta-del-colegio...   \n",
       "1      chile     cnnchile  https://www.cnnchile.com/pais/defensoria-ninez...   \n",
       "2      chile     cnnchile  https://www.cnnchile.com/pais/cuanto-les-pagar...   \n",
       "3      chile     cnnchile  https://www.cnnchile.com/pais/sobrino-de-aleja...   \n",
       "4      chile     cnnchile  https://www.cnnchile.com/pais/analisis-sobre-e...   \n",
       "...      ...          ...                                                ...   \n",
       "6995   chile     cnnchile  https://www.cnnchile.com/tecnologias/playstati...   \n",
       "6996   chile     cnnchile  https://www.cnnchile.com/tecnologias/android-l...   \n",
       "6997   chile     cnnchile  https://www.cnnchile.com/tecnologias/regalos-t...   \n",
       "6998   chile     cnnchile  https://www.cnnchile.com/tecnologias/jugar-con...   \n",
       "6999   chile     cnnchile  https://www.cnnchile.com/tecnologias/konami-la...   \n",
       "\n",
       "                                                  title  \\\n",
       "0     Pdta. del Colegio de Matronas explicó los ries...   \n",
       "1     Defensoría de la Niñez pide al Estado velar po...   \n",
       "2            ¿Cuánto les pagarán a los vocales de mesa?   \n",
       "3     Sobrino de Alejandro Navarro intenta “funar” e...   \n",
       "4     Análisis sobre el aumento de impuestos para al...   \n",
       "...                                                 ...   \n",
       "6995  PlayStation 5 vs Xbox Series X: Mira la compar...   \n",
       "6996     Android le dará “una paliza” a Windows en 2013   \n",
       "6997     Regalos tecnológicos marcaron pauta en Navidad   \n",
       "6998  Jugar con Fox en Starlink vale totalmente la p...   \n",
       "6999  Konami lanza PES 2018 de forma gratuita para i...   \n",
       "\n",
       "                                                   text  \\\n",
       "0     La Federación de Estudiantes de la Universidad...   \n",
       "1     La Defensoría de la Niñez emitió este domingo ...   \n",
       "2     El monto del bono es de dos tercios de Unidad ...   \n",
       "3     Una nueva polémica tiene esta carrera presiden...   \n",
       "4     Especialistas recomiendan no consumir más de 2...   \n",
       "...                                                 ...   \n",
       "6995  Las compañías ya han revelado muchos detalles ...   \n",
       "6996  Se proyecta que tras un virtual empate en 2012...   \n",
       "6997  Tablets y smartphones fueron los regalos tecno...   \n",
       "6998  Crecí jugando clásicos de naves como Terminal ...   \n",
       "6999  Konami Digital Entertainment ha anunciado que ...   \n",
       "\n",
       "                            date     category  \n",
       "0     2018-03-29 00:00:00.000000         pais  \n",
       "1     2020-08-02 00:00:00.000000         pais  \n",
       "2     2016-10-20 00:00:00.000000         pais  \n",
       "3     2017-11-13 00:00:00.000000         pais  \n",
       "4     2014-05-05 00:00:00.000000         pais  \n",
       "...                          ...          ...  \n",
       "6995  2020-09-18 00:00:00.000000  tecnologias  \n",
       "6996  2013-04-04 00:00:00.000000  tecnologias  \n",
       "6997  2012-12-26 00:00:00.000000  tecnologias  \n",
       "6998  2018-10-30 00:00:00.000000  tecnologias  \n",
       "6999  2017-11-10 00:00:00.000000  tecnologias  \n",
       "\n",
       "[7000 rows x 7 columns]"
      ]
     },
     "execution_count": 113,
     "metadata": {},
     "output_type": "execute_result"
    }
   ],
   "source": [
    "import pandas as pd\n",
    "import seaborn as sb\n",
    "import numpy as np\n",
    "import spacy\n",
    "import time\n",
    "import matplotlib.pyplot as plt\n",
    "\n",
    "df = pd.read_csv('cnnchile_7000.csv')\n",
    "df"
   ]
  },
  {
   "cell_type": "code",
   "execution_count": 2,
   "metadata": {},
   "outputs": [
    {
     "data": {
      "text/html": [
       "<div>\n",
       "<style scoped>\n",
       "    .dataframe tbody tr th:only-of-type {\n",
       "        vertical-align: middle;\n",
       "    }\n",
       "\n",
       "    .dataframe tbody tr th {\n",
       "        vertical-align: top;\n",
       "    }\n",
       "\n",
       "    .dataframe thead th {\n",
       "        text-align: right;\n",
       "    }\n",
       "</style>\n",
       "<table border=\"1\" class=\"dataframe\">\n",
       "  <thead>\n",
       "    <tr style=\"text-align: right;\">\n",
       "      <th></th>\n",
       "      <th>category</th>\n",
       "      <th>count(*)</th>\n",
       "    </tr>\n",
       "  </thead>\n",
       "  <tbody>\n",
       "    <tr>\n",
       "      <th>0</th>\n",
       "      <td>tendencias</td>\n",
       "      <td>1000</td>\n",
       "    </tr>\n",
       "    <tr>\n",
       "      <th>1</th>\n",
       "      <td>tecnologias</td>\n",
       "      <td>1000</td>\n",
       "    </tr>\n",
       "    <tr>\n",
       "      <th>2</th>\n",
       "      <td>pais</td>\n",
       "      <td>1000</td>\n",
       "    </tr>\n",
       "    <tr>\n",
       "      <th>3</th>\n",
       "      <td>mundo</td>\n",
       "      <td>1000</td>\n",
       "    </tr>\n",
       "    <tr>\n",
       "      <th>4</th>\n",
       "      <td>economia</td>\n",
       "      <td>1000</td>\n",
       "    </tr>\n",
       "    <tr>\n",
       "      <th>5</th>\n",
       "      <td>deportes</td>\n",
       "      <td>1000</td>\n",
       "    </tr>\n",
       "    <tr>\n",
       "      <th>6</th>\n",
       "      <td>cultura</td>\n",
       "      <td>1000</td>\n",
       "    </tr>\n",
       "  </tbody>\n",
       "</table>\n",
       "</div>"
      ],
      "text/plain": [
       "      category  count(*)\n",
       "0   tendencias      1000\n",
       "1  tecnologias      1000\n",
       "2         pais      1000\n",
       "3        mundo      1000\n",
       "4     economia      1000\n",
       "5     deportes      1000\n",
       "6      cultura      1000"
      ]
     },
     "execution_count": 2,
     "metadata": {},
     "output_type": "execute_result"
    }
   ],
   "source": [
    "from pandasql import sqldf\n",
    "\n",
    "q=\"\"\"SELECT category, count(*) FROM df GROUP BY category ORDER BY count(*) DESC;\"\"\"\n",
    "result=sqldf(q)\n",
    "result"
   ]
  },
  {
   "cell_type": "code",
   "execution_count": 110,
   "metadata": {},
   "outputs": [],
   "source": [
    "import sys\n",
    "\n",
    "#!{sys.executable} -m spacy download es\n",
    "\n",
    "nlp = spacy.load(\"es\")\n",
    "\n",
    "from sklearn import metrics"
   ]
  },
  {
   "cell_type": "markdown",
   "metadata": {},
   "source": [
    "## 1.1 Preprocessing"
   ]
  },
  {
   "cell_type": "markdown",
   "metadata": {},
   "source": [
    "Es necesario quitar las columnas que no dan información relevante para el análisis, como país, medio de comunicación, fecha y url."
   ]
  },
  {
   "cell_type": "code",
   "execution_count": 3,
   "metadata": {},
   "outputs": [
    {
     "data": {
      "text/html": [
       "<div>\n",
       "<style scoped>\n",
       "    .dataframe tbody tr th:only-of-type {\n",
       "        vertical-align: middle;\n",
       "    }\n",
       "\n",
       "    .dataframe tbody tr th {\n",
       "        vertical-align: top;\n",
       "    }\n",
       "\n",
       "    .dataframe thead th {\n",
       "        text-align: right;\n",
       "    }\n",
       "</style>\n",
       "<table border=\"1\" class=\"dataframe\">\n",
       "  <thead>\n",
       "    <tr style=\"text-align: right;\">\n",
       "      <th></th>\n",
       "      <th>title</th>\n",
       "      <th>text</th>\n",
       "      <th>category</th>\n",
       "    </tr>\n",
       "  </thead>\n",
       "  <tbody>\n",
       "    <tr>\n",
       "      <th>0</th>\n",
       "      <td>Pdta. del Colegio de Matronas explicó los ries...</td>\n",
       "      <td>La Federación de Estudiantes de la Universidad...</td>\n",
       "      <td>pais</td>\n",
       "    </tr>\n",
       "    <tr>\n",
       "      <th>1</th>\n",
       "      <td>Defensoría de la Niñez pide al Estado velar po...</td>\n",
       "      <td>La Defensoría de la Niñez emitió este domingo ...</td>\n",
       "      <td>pais</td>\n",
       "    </tr>\n",
       "    <tr>\n",
       "      <th>2</th>\n",
       "      <td>¿Cuánto les pagarán a los vocales de mesa?</td>\n",
       "      <td>El monto del bono es de dos tercios de Unidad ...</td>\n",
       "      <td>pais</td>\n",
       "    </tr>\n",
       "    <tr>\n",
       "      <th>3</th>\n",
       "      <td>Sobrino de Alejandro Navarro intenta “funar” e...</td>\n",
       "      <td>Una nueva polémica tiene esta carrera presiden...</td>\n",
       "      <td>pais</td>\n",
       "    </tr>\n",
       "    <tr>\n",
       "      <th>4</th>\n",
       "      <td>Análisis sobre el aumento de impuestos para al...</td>\n",
       "      <td>Especialistas recomiendan no consumir más de 2...</td>\n",
       "      <td>pais</td>\n",
       "    </tr>\n",
       "    <tr>\n",
       "      <th>5</th>\n",
       "      <td>Encuesta Libertad y Desarrollo: Temor a perder...</td>\n",
       "      <td>Francisco Klapp profundizó en el último sondeo...</td>\n",
       "      <td>pais</td>\n",
       "    </tr>\n",
       "    <tr>\n",
       "      <th>6</th>\n",
       "      <td>Presidenta decretó zona de catástrofe para reg...</td>\n",
       "      <td>La mandataria informó que recibió mensajes de ...</td>\n",
       "      <td>pais</td>\n",
       "    </tr>\n",
       "    <tr>\n",
       "      <th>7</th>\n",
       "      <td>Autoridades de Transporte anunciaron nuevos bu...</td>\n",
       "      <td>El Ministro de Transporte Andrés Gómez-Lobo en...</td>\n",
       "      <td>pais</td>\n",
       "    </tr>\n",
       "    <tr>\n",
       "      <th>8</th>\n",
       "      <td>Polémica por cantidad de casas destruidas</td>\n",
       "      <td>Confución generaron los datos entregados por l...</td>\n",
       "      <td>pais</td>\n",
       "    </tr>\n",
       "    <tr>\n",
       "      <th>9</th>\n",
       "      <td>Interponen nueva demanda contra CCU por prácti...</td>\n",
       "      <td>La firma ligada al grupo Luksic habría iniciad...</td>\n",
       "      <td>pais</td>\n",
       "    </tr>\n",
       "  </tbody>\n",
       "</table>\n",
       "</div>"
      ],
      "text/plain": [
       "                                               title  \\\n",
       "0  Pdta. del Colegio de Matronas explicó los ries...   \n",
       "1  Defensoría de la Niñez pide al Estado velar po...   \n",
       "2         ¿Cuánto les pagarán a los vocales de mesa?   \n",
       "3  Sobrino de Alejandro Navarro intenta “funar” e...   \n",
       "4  Análisis sobre el aumento de impuestos para al...   \n",
       "5  Encuesta Libertad y Desarrollo: Temor a perder...   \n",
       "6  Presidenta decretó zona de catástrofe para reg...   \n",
       "7  Autoridades de Transporte anunciaron nuevos bu...   \n",
       "8          Polémica por cantidad de casas destruidas   \n",
       "9  Interponen nueva demanda contra CCU por prácti...   \n",
       "\n",
       "                                                text category  \n",
       "0  La Federación de Estudiantes de la Universidad...     pais  \n",
       "1  La Defensoría de la Niñez emitió este domingo ...     pais  \n",
       "2  El monto del bono es de dos tercios de Unidad ...     pais  \n",
       "3  Una nueva polémica tiene esta carrera presiden...     pais  \n",
       "4  Especialistas recomiendan no consumir más de 2...     pais  \n",
       "5  Francisco Klapp profundizó en el último sondeo...     pais  \n",
       "6  La mandataria informó que recibió mensajes de ...     pais  \n",
       "7  El Ministro de Transporte Andrés Gómez-Lobo en...     pais  \n",
       "8  Confución generaron los datos entregados por l...     pais  \n",
       "9  La firma ligada al grupo Luksic habría iniciad...     pais  "
      ]
     },
     "execution_count": 3,
     "metadata": {},
     "output_type": "execute_result"
    }
   ],
   "source": [
    "data = df.drop(columns=[\"country\", \"media_outlet\", \"url\", \"date\"])\n",
    "\n",
    "data[:10]"
   ]
  },
  {
   "cell_type": "code",
   "execution_count": 4,
   "metadata": {},
   "outputs": [
    {
     "data": {
      "text/plain": [
       "title       1\n",
       "text        0\n",
       "category    0\n",
       "dtype: int64"
      ]
     },
     "execution_count": 4,
     "metadata": {},
     "output_type": "execute_result"
    }
   ],
   "source": [
    "data.isnull().sum()"
   ]
  },
  {
   "cell_type": "markdown",
   "metadata": {},
   "source": [
    "Existe 1 campo sin título, por efectos de simplicidad lo eliminaremos"
   ]
  },
  {
   "cell_type": "code",
   "execution_count": 5,
   "metadata": {},
   "outputs": [
    {
     "data": {
      "text/plain": [
       "title       0\n",
       "text        0\n",
       "category    0\n",
       "dtype: int64"
      ]
     },
     "execution_count": 5,
     "metadata": {},
     "output_type": "execute_result"
    }
   ],
   "source": [
    "data.dropna(inplace=True)\n",
    "data.isnull().sum()"
   ]
  },
  {
   "cell_type": "code",
   "execution_count": 6,
   "metadata": {},
   "outputs": [
    {
     "name": "stdout",
     "output_type": "stream",
     "text": [
      "<class 'pandas.core.frame.DataFrame'>\n",
      "Int64Index: 6999 entries, 0 to 6999\n",
      "Data columns (total 3 columns):\n",
      " #   Column    Non-Null Count  Dtype \n",
      "---  ------    --------------  ----- \n",
      " 0   title     6999 non-null   object\n",
      " 1   text      6999 non-null   object\n",
      " 2   category  6999 non-null   object\n",
      "dtypes: object(3)\n",
      "memory usage: 218.7+ KB\n"
     ]
    }
   ],
   "source": [
    "data.info()"
   ]
  },
  {
   "cell_type": "code",
   "execution_count": 83,
   "metadata": {},
   "outputs": [
    {
     "data": {
      "text/html": [
       "<div>\n",
       "<style scoped>\n",
       "    .dataframe tbody tr th:only-of-type {\n",
       "        vertical-align: middle;\n",
       "    }\n",
       "\n",
       "    .dataframe tbody tr th {\n",
       "        vertical-align: top;\n",
       "    }\n",
       "\n",
       "    .dataframe thead th {\n",
       "        text-align: right;\n",
       "    }\n",
       "</style>\n",
       "<table border=\"1\" class=\"dataframe\">\n",
       "  <thead>\n",
       "    <tr style=\"text-align: right;\">\n",
       "      <th></th>\n",
       "      <th>text</th>\n",
       "      <th>category</th>\n",
       "    </tr>\n",
       "  </thead>\n",
       "  <tbody>\n",
       "    <tr>\n",
       "      <th>0</th>\n",
       "      <td>Pdta. del Colegio de Matronas explicó los ries...</td>\n",
       "      <td>pais</td>\n",
       "    </tr>\n",
       "    <tr>\n",
       "      <th>1</th>\n",
       "      <td>Defensoría de la Niñez pide al Estado velar po...</td>\n",
       "      <td>pais</td>\n",
       "    </tr>\n",
       "    <tr>\n",
       "      <th>2</th>\n",
       "      <td>¿Cuánto les pagarán a los vocales de mesa?. El...</td>\n",
       "      <td>pais</td>\n",
       "    </tr>\n",
       "    <tr>\n",
       "      <th>3</th>\n",
       "      <td>Sobrino de Alejandro Navarro intenta “funar” e...</td>\n",
       "      <td>pais</td>\n",
       "    </tr>\n",
       "    <tr>\n",
       "      <th>4</th>\n",
       "      <td>Análisis sobre el aumento de impuestos para al...</td>\n",
       "      <td>pais</td>\n",
       "    </tr>\n",
       "  </tbody>\n",
       "</table>\n",
       "</div>"
      ],
      "text/plain": [
       "                                                text category\n",
       "0  Pdta. del Colegio de Matronas explicó los ries...     pais\n",
       "1  Defensoría de la Niñez pide al Estado velar po...     pais\n",
       "2  ¿Cuánto les pagarán a los vocales de mesa?. El...     pais\n",
       "3  Sobrino de Alejandro Navarro intenta “funar” e...     pais\n",
       "4  Análisis sobre el aumento de impuestos para al...     pais"
      ]
     },
     "execution_count": 83,
     "metadata": {},
     "output_type": "execute_result"
    }
   ],
   "source": [
    "data_final = data.copy()\n",
    "\n",
    "titles = []\n",
    "for title in data_final[\"title\"]:\n",
    "    titles.append(title)\n",
    "\n",
    "index = 0\n",
    "for text in data_final[\"text\"]:\n",
    "    data_final[\"text\"][index] = titles[index] + \". \" + text\n",
    "    index+=1\n",
    "\n",
    "data_final = data_final.drop(columns=[\"title\"])\n",
    "\n",
    "data_final[:5]"
   ]
  },
  {
   "cell_type": "markdown",
   "metadata": {},
   "source": [
    "## 1.2 Features"
   ]
  },
  {
   "cell_type": "code",
   "execution_count": 108,
   "metadata": {},
   "outputs": [],
   "source": [
    "def feature_tokenizer(text):\n",
    "    tokens = nlp(text)\n",
    "\n",
    "    #Guardamos las palabras como características si se considera sustantivo, adjetivo o verbo\n",
    "    tokens = [word for word in tokens if word.pos_ in [\"NOUN\", \"ADJ\", \"VERB\"]]\n",
    "    \n",
    "    #Palabras en minusculas\n",
    "    tokens = [word.lemma_.lower().strip() for word in tokens]\n",
    "\n",
    "    return tokens\n",
    "\n",
    "from sklearn.feature_extraction.text import TfidfVectorizer\n",
    "\n",
    "tfidf_vectorizer = TfidfVectorizer(tokenizer = feature_tokenizer, min_df=0., max_df=1.0)"
   ]
  },
  {
   "cell_type": "markdown",
   "metadata": {},
   "source": [
    "> Separamos la información de las etiquetas"
   ]
  },
  {
   "cell_type": "code",
   "execution_count": 85,
   "metadata": {},
   "outputs": [
    {
     "name": "stdout",
     "output_type": "stream",
     "text": [
      "0       Pdta. del Colegio de Matronas explicó los ries...\n",
      "1       Defensoría de la Niñez pide al Estado velar po...\n",
      "2       ¿Cuánto les pagarán a los vocales de mesa?. El...\n",
      "3       Sobrino de Alejandro Navarro intenta “funar” e...\n",
      "4       Análisis sobre el aumento de impuestos para al...\n",
      "                              ...                        \n",
      "6995    Android le dará “una paliza” a Windows en 2013...\n",
      "6996    Regalos tecnológicos marcaron pauta en Navidad...\n",
      "6997    Jugar con Fox en Starlink vale totalmente la p...\n",
      "6998    Konami lanza PES 2018 de forma gratuita para i...\n",
      "6999    Konami Digital Entertainment ha anunciado que ...\n",
      "Name: text, Length: 6999, dtype: object\n",
      "0              pais\n",
      "1              pais\n",
      "2              pais\n",
      "3              pais\n",
      "4              pais\n",
      "           ...     \n",
      "6995    tecnologias\n",
      "6996    tecnologias\n",
      "6997    tecnologias\n",
      "6998    tecnologias\n",
      "6999    tecnologias\n",
      "Name: category, Length: 6999, dtype: object\n"
     ]
    }
   ],
   "source": [
    "X = data_final[\"text\"]\n",
    "print(X)\n",
    "Y_label = data_final[\"category\"]\n",
    "print(Y_label)"
   ]
  },
  {
   "cell_type": "markdown",
   "metadata": {},
   "source": [
    "> Se codifican las etiquetas para que sean mas fáciles de manejar"
   ]
  },
  {
   "cell_type": "code",
   "execution_count": 101,
   "metadata": {},
   "outputs": [
    {
     "data": {
      "text/plain": [
       "array([4, 4, 4, ..., 5, 5, 5])"
      ]
     },
     "execution_count": 101,
     "metadata": {},
     "output_type": "execute_result"
    }
   ],
   "source": [
    "from sklearn.preprocessing import LabelEncoder\n",
    "encoded_Y_labels = LabelEncoder().fit_transform(Y_label)\n",
    "encoded_Y_labels"
   ]
  },
  {
   "cell_type": "code",
   "execution_count": 94,
   "metadata": {},
   "outputs": [],
   "source": [
    "from sklearn.model_selection import train_test_split\n",
    "\n",
    "X_train, X_test, y_train, y_test = train_test_split(X, encoded_Y_labels, test_size=0.25)"
   ]
  },
  {
   "cell_type": "code",
   "execution_count": 95,
   "metadata": {},
   "outputs": [
    {
     "data": {
      "text/plain": [
       "2251    Nuevamente hacen historia: La Roja venció a Br...\n",
       "144     Osvaldo Andrade por Insulza: “Las declaracione...\n",
       "952     Ex carabinero sospechoso de femicidio es vincu...\n",
       "5151    “Guardians of the South”, la serie animada sob...\n",
       "303     Frente Amplio tendría primarias legales. Este ...\n",
       "                              ...                        \n",
       "5877    Confirman las fechas y programación de artista...\n",
       "5928    Slayer, Megadeth y Anthrax encabezarán la cuar...\n",
       "6176    Uber ocultó “hackeo” masivo. Uber habría sido ...\n",
       "1298    Embajador de Israel en Chile: “La meta es que ...\n",
       "1771    Estas ciudades europeas están hartas de los tu...\n",
       "Name: text, Length: 5249, dtype: object"
      ]
     },
     "execution_count": 95,
     "metadata": {},
     "output_type": "execute_result"
    }
   ],
   "source": [
    "X_train"
   ]
  },
  {
   "cell_type": "code",
   "execution_count": 96,
   "metadata": {},
   "outputs": [
    {
     "data": {
      "text/plain": [
       "549     Ernesto Galaz valoró la condena al Estado por ...\n",
       "2420    Ciclista Irene Aravena permanece estable tras ...\n",
       "2880    El ataque de Martín Liberman por la sanción de...\n",
       "1860    Trump no descartó firmar nueva orden ejecutiva...\n",
       "3981    Astronauta graba videoclip en el espacio. El c...\n",
       "                              ...                        \n",
       "2934    La “U” es el líder del Torneo de Clausura lueg...\n",
       "6773    Conoce la aplicación chilena HappyShop.  Happy...\n",
       "5472    “Nunca subí el Provincia”, el documental chile...\n",
       "6505    Los videos y tendencias más importantes de la ...\n",
       "3676    Esta es la razón por la que no deberías lanzar...\n",
       "Name: text, Length: 1750, dtype: object"
      ]
     },
     "execution_count": 96,
     "metadata": {},
     "output_type": "execute_result"
    }
   ],
   "source": [
    "X_test"
   ]
  },
  {
   "cell_type": "code",
   "execution_count": 97,
   "metadata": {},
   "outputs": [
    {
     "data": {
      "text/plain": [
       "array([1, 4, 4, ..., 5, 3, 3])"
      ]
     },
     "execution_count": 97,
     "metadata": {},
     "output_type": "execute_result"
    }
   ],
   "source": [
    "y_train"
   ]
  },
  {
   "cell_type": "code",
   "execution_count": 98,
   "metadata": {},
   "outputs": [
    {
     "data": {
      "text/plain": [
       "array([4, 1, 1, ..., 0, 5, 6])"
      ]
     },
     "execution_count": 98,
     "metadata": {},
     "output_type": "execute_result"
    }
   ],
   "source": [
    "y_test"
   ]
  },
  {
   "cell_type": "markdown",
   "metadata": {},
   "source": [
    "## 2.1 Regresión Logística"
   ]
  },
  {
   "cell_type": "code",
   "execution_count": 109,
   "metadata": {},
   "outputs": [
    {
     "data": {
      "text/plain": [
       "Pipeline(steps=[('vectorizing',\n",
       "                 TfidfVectorizer(min_df=0.0,\n",
       "                                 tokenizer=<function feature_tokenizer at 0x000001B903B1ED30>)),\n",
       "                ('learning', LogisticRegression())])"
      ]
     },
     "execution_count": 109,
     "metadata": {},
     "output_type": "execute_result"
    }
   ],
   "source": [
    "from sklearn.pipeline import Pipeline\n",
    "\n",
    "from sklearn.linear_model import LogisticRegression\n",
    "\n",
    "logistic_regression_model = LogisticRegression()\n",
    "\n",
    "pipe = Pipeline([('vectorizing', tfidf_vectorizer),\n",
    "                 ('learning', logistic_regression_model)])\n",
    "\n",
    "pipe.fit(X_train,y_train)"
   ]
  },
  {
   "cell_type": "code",
   "execution_count": 112,
   "metadata": {},
   "outputs": [
    {
     "name": "stdout",
     "output_type": "stream",
     "text": [
      "[4 1 1 ... 0 5 6]\n",
      "[[0.10980922 0.09525912 0.06180998 ... 0.39777432 0.02897751 0.05719594]\n",
      " [0.03650962 0.29233592 0.06432344 ... 0.14538252 0.08276289 0.17358975]\n",
      " [0.06311962 0.70809694 0.0156034  ... 0.02876887 0.05452071 0.07037024]\n",
      " ...\n",
      " [0.7824633  0.01866134 0.01599551 ... 0.03059838 0.0516338  0.07915476]\n",
      " [0.01104179 0.12759142 0.20781625 ... 0.12132472 0.37299436 0.05098382]\n",
      " [0.06817454 0.03813424 0.05423387 ... 0.06461888 0.24642136 0.30183623]]\n"
     ]
    }
   ],
   "source": [
    "predicted = pipe.predict(X_test)\n",
    "\n",
    "print(predicted)\n",
    "\n",
    "predicted_proba = pipe.predict_proba(X_test)\n",
    "\n",
    "print(predicted_proba)"
   ]
  },
  {
   "cell_type": "code",
   "execution_count": 115,
   "metadata": {},
   "outputs": [
    {
     "name": "stdout",
     "output_type": "stream",
     "text": [
      "Logistic Regression Accuracy: 0.788\n"
     ]
    }
   ],
   "source": [
    "# Model Accuracy\n",
    "print(\"Logistic Regression Accuracy:\",metrics.accuracy_score(y_test, predicted))"
   ]
  },
  {
   "cell_type": "code",
   "execution_count": 116,
   "metadata": {},
   "outputs": [
    {
     "name": "stdout",
     "output_type": "stream",
     "text": [
      "[[219   1   0   1   5   0   9]\n",
      " [  0 223   5   3  10   1  16]\n",
      " [  0   0 214   4  24   8   6]\n",
      " [  4   9  16 184  23   4  18]\n",
      " [  2   4  18  24 189   6  10]\n",
      " [  5   1   9   4  11 177  30]\n",
      " [ 22   8   7   7   7  29 173]]\n",
      "              precision    recall  f1-score   support\n",
      "\n",
      "           0       0.87      0.93      0.90       235\n",
      "           1       0.91      0.86      0.88       258\n",
      "           2       0.80      0.84      0.82       256\n",
      "           3       0.81      0.71      0.76       258\n",
      "           4       0.70      0.75      0.72       253\n",
      "           5       0.79      0.75      0.77       237\n",
      "           6       0.66      0.68      0.67       253\n",
      "\n",
      "    accuracy                           0.79      1750\n",
      "   macro avg       0.79      0.79      0.79      1750\n",
      "weighted avg       0.79      0.79      0.79      1750\n",
      "\n"
     ]
    }
   ],
   "source": [
    "# Matriz de confusión\n",
    "from sklearn.metrics import confusion_matrix\n",
    "\n",
    "confusion_matrix = confusion_matrix(y_test, predicted)\n",
    "print(confusion_matrix)\n",
    "\n",
    "from sklearn.metrics import classification_report\n",
    "\n",
    "print(classification_report(y_test, predicted))"
   ]
  },
  {
   "cell_type": "code",
   "execution_count": 114,
   "metadata": {},
   "outputs": [
    {
     "data": {
      "text/plain": [
       "(array([0.5, 1.5, 2.5, 3.5, 4.5, 5.5, 6.5]),\n",
       " <a list of 7 Text major ticklabel objects>)"
      ]
     },
     "execution_count": 114,
     "metadata": {},
     "output_type": "execute_result"
    },
    {
     "data": {
      "image/png": "[encoded data removed]",
      "text/plain": [
       "<Figure size 432x288 with 1 Axes>"
      ]
     },
     "metadata": {
      "needs_background": "light"
     },
     "output_type": "display_data"
    }
   ],
   "source": [
    "classes = np.unique(y_test)\n",
    "\n",
    "cm = metrics.confusion_matrix(y_test, predicted)\n",
    "fig, ax = plt.subplots()\n",
    "sb.heatmap(cm, annot=True, fmt='d', ax=ax, cmap=plt.cm.Blues, \n",
    "            cbar=False)\n",
    "ax.set(xlabel=\"Pred\", ylabel=\"True\", xticklabels=classes, \n",
    "       yticklabels=classes, title=\"Confusion matrix\")\n",
    "plt.yticks(rotation=0)"
   ]
  },
  {
   "cell_type": "markdown",
   "metadata": {},
   "source": [
    "## 2.2 Naïve Bayes"
   ]
  },
  {
   "cell_type": "code",
   "execution_count": 117,
   "metadata": {},
   "outputs": [],
   "source": [
    "from sklearn.naive_bayes import MultinomialNB\n",
    "\n",
    "nb = MultinomialNB()\n",
    "\n",
    "model_nb = Pipeline([('vectorizing', tfidf_vectorizer),\n",
    "                 ('learning', nb)])"
   ]
  },
  {
   "cell_type": "code",
   "execution_count": 118,
   "metadata": {},
   "outputs": [
    {
     "data": {
      "text/plain": [
       "Pipeline(steps=[('vectorizing',\n",
       "                 TfidfVectorizer(min_df=0.0,\n",
       "                                 tokenizer=<function feature_tokenizer at 0x000001B903B1ED30>)),\n",
       "                ('learning', MultinomialNB())])"
      ]
     },
     "execution_count": 118,
     "metadata": {},
     "output_type": "execute_result"
    }
   ],
   "source": [
    "model_nb.fit(X_train, y_train)"
   ]
  },
  {
   "cell_type": "code",
   "execution_count": 119,
   "metadata": {},
   "outputs": [],
   "source": [
    "predicted = model_nb.predict(X_test)"
   ]
  },
  {
   "cell_type": "code",
   "execution_count": 121,
   "metadata": {},
   "outputs": [
    {
     "name": "stdout",
     "output_type": "stream",
     "text": [
      "Logistic Regression Accuracy: 0.7605714285714286\n"
     ]
    }
   ],
   "source": [
    "# Model Accuracy\n",
    "print(\"Logistic Regression Accuracy:\",metrics.accuracy_score(y_test, predicted))"
   ]
  },
  {
   "cell_type": "code",
   "execution_count": 120,
   "metadata": {},
   "outputs": [
    {
     "name": "stdout",
     "output_type": "stream",
     "text": [
      "[[227   0   1   3   2   0   2]\n",
      " [ 11 220   8   3   8   4   4]\n",
      " [  2   0 225   3  18   8   0]\n",
      " [ 15   6  23 180  20   9   5]\n",
      " [  5   1  30  24 181   9   3]\n",
      " [ 13   1  12   5   8 185  13]\n",
      " [ 57   7  10   7   8  51 113]]\n",
      "              precision    recall  f1-score   support\n",
      "\n",
      "           0       0.69      0.97      0.80       235\n",
      "           1       0.94      0.85      0.89       258\n",
      "           2       0.73      0.88      0.80       256\n",
      "           3       0.80      0.70      0.75       258\n",
      "           4       0.74      0.72      0.73       253\n",
      "           5       0.70      0.78      0.74       237\n",
      "           6       0.81      0.45      0.58       253\n",
      "\n",
      "    accuracy                           0.76      1750\n",
      "   macro avg       0.77      0.76      0.75      1750\n",
      "weighted avg       0.77      0.76      0.75      1750\n",
      "\n"
     ]
    }
   ],
   "source": [
    "confusion_matrix = metrics.confusion_matrix(y_test, predicted)\n",
    "\n",
    "print(confusion_matrix)\n",
    "\n",
    "print(classification_report(y_test, predicted))"
   ]
  },
  {
   "cell_type": "markdown",
   "metadata": {},
   "source": [
    "## 2.3 Arbol de decisión"
   ]
  },
  {
   "cell_type": "code",
   "execution_count": 124,
   "metadata": {},
   "outputs": [],
   "source": [
    "from sklearn import tree\n",
    "\n",
    "my_tree = tree.DecisionTreeClassifier()\n",
    "\n",
    "model_tree = Pipeline([('vectorizing', tfidf_vectorizer),\n",
    "                 ('learning', my_tree)])"
   ]
  },
  {
   "cell_type": "code",
   "execution_count": 125,
   "metadata": {},
   "outputs": [
    {
     "data": {
      "text/plain": [
       "Pipeline(steps=[('vectorizing',\n",
       "                 TfidfVectorizer(min_df=0.0,\n",
       "                                 tokenizer=<function feature_tokenizer at 0x000001B903B1ED30>)),\n",
       "                ('learning', DecisionTreeClassifier())])"
      ]
     },
     "execution_count": 125,
     "metadata": {},
     "output_type": "execute_result"
    }
   ],
   "source": [
    "model_tree.fit(X_train, y_train)"
   ]
  },
  {
   "cell_type": "code",
   "execution_count": 126,
   "metadata": {},
   "outputs": [],
   "source": [
    "predicted = model_tree.predict(X_test)"
   ]
  },
  {
   "cell_type": "code",
   "execution_count": 128,
   "metadata": {},
   "outputs": [
    {
     "name": "stdout",
     "output_type": "stream",
     "text": [
      "Logistic Regression Accuracy: 0.5337142857142857\n"
     ]
    }
   ],
   "source": [
    "# Model Accuracy\n",
    "print(\"Logistic Regression Accuracy:\",metrics.accuracy_score(y_test, predicted))"
   ]
  },
  {
   "cell_type": "code",
   "execution_count": 127,
   "metadata": {},
   "outputs": [
    {
     "name": "stdout",
     "output_type": "stream",
     "text": [
      "[[173  11   3   7  12  10  19]\n",
      " [  4 170  10  14  23  12  25]\n",
      " [  8   6 133  26  49  25   9]\n",
      " [ 11  15  27 127  43  14  21]\n",
      " [ 11  14  25  51 115  19  18]\n",
      " [ 19  15  23  11  17 115  37]\n",
      " [ 39  20  15  24  18  36 101]]\n",
      "              precision    recall  f1-score   support\n",
      "\n",
      "           0       0.65      0.74      0.69       235\n",
      "           1       0.68      0.66      0.67       258\n",
      "           2       0.56      0.52      0.54       256\n",
      "           3       0.49      0.49      0.49       258\n",
      "           4       0.42      0.45      0.43       253\n",
      "           5       0.50      0.49      0.49       237\n",
      "           6       0.44      0.40      0.42       253\n",
      "\n",
      "    accuracy                           0.53      1750\n",
      "   macro avg       0.53      0.54      0.53      1750\n",
      "weighted avg       0.53      0.53      0.53      1750\n",
      "\n"
     ]
    }
   ],
   "source": [
    "confusion_matrix = metrics.confusion_matrix(y_test, predicted)\n",
    "\n",
    "print(confusion_matrix)\n",
    "\n",
    "print(classification_report(y_test, predicted))"
   ]
  },
  {
   "cell_type": "code",
   "execution_count": 130,
   "metadata": {},
   "outputs": [
    {
     "name": "stdout",
     "output_type": "stream",
     "text": [
      "|--- artista <= 0.01\n",
      "|   |--- jugador <= 0.04\n",
      "|   |   |--- económico <= 0.05\n",
      "|   |   |   |--- película <= 0.03\n",
      "|   |   |   |   |--- tecnología <= 0.03\n",
      "|   |   |   |   |   |--- presidente <= 0.02\n",
      "|   |   |   |   |   |   |--- gol <= 0.03\n",
      "|   |   |   |   |   |   |   |--- video <= 0.06\n",
      "|   |   |   |   |   |   |   |   |--- usuario <= 0.04\n",
      "|   |   |   |   |   |   |   |   |   |--- banda <= 0.01\n",
      "|   |   |   |   |   |   |   |   |   |   |--- alzar <= 0.05\n",
      "|   |   |   |   |   |   |   |   |   |   |   |--- truncated branch of depth 108\n",
      "|   |   |   |   |   |   |   |   |   |   |--- alzar >  0.05\n",
      "|   |   |   |   |   |   |   |   |   |   |   |--- truncated branch of depth 9\n",
      "|   |   |   |   |   |   |   |   |   |--- banda >  0.01\n",
      "|   |   |   |   |   |   |   |   |   |   |--- realizar <= 0.08\n",
      "|   |   |   |   |   |   |   |   |   |   |   |--- truncated branch of depth 10\n",
      "|   |   |   |   |   |   |   |   |   |   |--- realizar >  0.08\n",
      "|   |   |   |   |   |   |   |   |   |   |   |--- truncated branch of depth 3\n",
      "|   |   |   |   |   |   |   |   |--- usuario >  0.04\n",
      "|   |   |   |   |   |   |   |   |   |--- blocar <= 0.03\n",
      "|   |   |   |   |   |   |   |   |   |   |--- consultar <= 0.05\n",
      "|   |   |   |   |   |   |   |   |   |   |   |--- truncated branch of depth 21\n",
      "|   |   |   |   |   |   |   |   |   |   |--- consultar >  0.05\n",
      "|   |   |   |   |   |   |   |   |   |   |   |--- truncated branch of depth 2\n",
      "|   |   |   |   |   |   |   |   |   |--- blocar >  0.03\n",
      "|   |   |   |   |   |   |   |   |   |   |--- controlar <= 0.04\n",
      "|   |   |   |   |   |   |   |   |   |   |   |--- truncated branch of depth 2\n",
      "|   |   |   |   |   |   |   |   |   |   |--- controlar >  0.04\n",
      "|   |   |   |   |   |   |   |   |   |   |   |--- truncated branch of depth 2\n",
      "|   |   |   |   |   |   |   |--- video >  0.06\n",
      "|   |   |   |   |   |   |   |   |--- adjuntar <= 0.07\n",
      "|   |   |   |   |   |   |   |   |   |--- gente <= 0.03\n",
      "|   |   |   |   |   |   |   |   |   |   |--- estrenar <= 0.03\n",
      "|   |   |   |   |   |   |   |   |   |   |   |--- truncated branch of depth 31\n",
      "|   |   |   |   |   |   |   |   |   |   |--- estrenar >  0.03\n",
      "|   |   |   |   |   |   |   |   |   |   |   |--- truncated branch of depth 2\n",
      "|   |   |   |   |   |   |   |   |   |--- gente >  0.03\n",
      "|   |   |   |   |   |   |   |   |   |   |--- seriar <= 0.02\n",
      "|   |   |   |   |   |   |   |   |   |   |   |--- truncated branch of depth 2\n",
      "|   |   |   |   |   |   |   |   |   |   |--- seriar >  0.02\n",
      "|   |   |   |   |   |   |   |   |   |   |   |--- class: 0\n",
      "|   |   |   |   |   |   |   |   |--- adjuntar >  0.07\n",
      "|   |   |   |   |   |   |   |   |   |--- declaración <= 0.05\n",
      "|   |   |   |   |   |   |   |   |   |   |--- cifrar <= 0.10\n",
      "|   |   |   |   |   |   |   |   |   |   |   |--- truncated branch of depth 30\n",
      "|   |   |   |   |   |   |   |   |   |   |--- cifrar >  0.10\n",
      "|   |   |   |   |   |   |   |   |   |   |   |--- class: 2\n",
      "|   |   |   |   |   |   |   |   |   |--- declaración >  0.05\n",
      "|   |   |   |   |   |   |   |   |   |   |--- equipar <= 0.05\n",
      "|   |   |   |   |   |   |   |   |   |   |   |--- truncated branch of depth 2\n",
      "|   |   |   |   |   |   |   |   |   |   |--- equipar >  0.05\n",
      "|   |   |   |   |   |   |   |   |   |   |   |--- class: 3\n",
      "|   |   |   |   |   |   |--- gol >  0.03\n",
      "|   |   |   |   |   |   |   |--- remontar <= 0.06\n",
      "|   |   |   |   |   |   |   |   |--- otro <= 0.08\n",
      "|   |   |   |   |   |   |   |   |   |--- anotar <= 0.38\n",
      "|   |   |   |   |   |   |   |   |   |   |--- fácil <= 0.15\n",
      "|   |   |   |   |   |   |   |   |   |   |   |--- class: 1\n",
      "|   |   |   |   |   |   |   |   |   |   |--- fácil >  0.15\n",
      "|   |   |   |   |   |   |   |   |   |   |   |--- class: 6\n",
      "|   |   |   |   |   |   |   |   |   |--- anotar >  0.38\n",
      "|   |   |   |   |   |   |   |   |   |   |--- class: 6\n",
      "|   |   |   |   |   |   |   |   |--- otro >  0.08\n",
      "|   |   |   |   |   |   |   |   |   |--- class: 3\n",
      "|   |   |   |   |   |   |   |--- remontar >  0.06\n",
      "|   |   |   |   |   |   |   |   |--- triunfar <= 0.09\n",
      "|   |   |   |   |   |   |   |   |   |--- class: 5\n",
      "|   |   |   |   |   |   |   |   |--- triunfar >  0.09\n",
      "|   |   |   |   |   |   |   |   |   |--- class: 6\n",
      "|   |   |   |   |   |--- presidente >  0.02\n",
      "|   |   |   |   |   |   |--- país <= 0.05\n",
      "|   |   |   |   |   |   |   |--- trump <= 0.07\n",
      "|   |   |   |   |   |   |   |   |--- empresa <= 0.06\n",
      "|   |   |   |   |   |   |   |   |   |--- diputar <= 0.04\n",
      "|   |   |   |   |   |   |   |   |   |   |--- mercar <= 0.07\n",
      "|   |   |   |   |   |   |   |   |   |   |   |--- truncated branch of depth 29\n",
      "|   |   |   |   |   |   |   |   |   |   |--- mercar >  0.07\n",
      "|   |   |   |   |   |   |   |   |   |   |   |--- truncated branch of depth 3\n",
      "|   |   |   |   |   |   |   |   |   |--- diputar >  0.04\n",
      "|   |   |   |   |   |   |   |   |   |   |--- empresario <= 0.01\n",
      "|   |   |   |   |   |   |   |   |   |   |   |--- truncated branch of depth 3\n",
      "|   |   |   |   |   |   |   |   |   |   |--- empresario >  0.01\n",
      "|   |   |   |   |   |   |   |   |   |   |   |--- class: 2\n",
      "|   |   |   |   |   |   |   |   |--- empresa >  0.06\n",
      "|   |   |   |   |   |   |   |   |   |--- mantener <= 0.06\n",
      "|   |   |   |   |   |   |   |   |   |   |--- proyectar <= 0.22\n",
      "|   |   |   |   |   |   |   |   |   |   |   |--- truncated branch of depth 5\n",
      "|   |   |   |   |   |   |   |   |   |   |--- proyectar >  0.22\n",
      "|   |   |   |   |   |   |   |   |   |   |   |--- class: 4\n",
      "|   |   |   |   |   |   |   |   |   |--- mantener >  0.06\n",
      "|   |   |   |   |   |   |   |   |   |   |--- class: 3\n",
      "|   |   |   |   |   |   |   |--- trump >  0.07\n",
      "|   |   |   |   |   |   |   |   |--- redar <= 0.01\n",
      "|   |   |   |   |   |   |   |   |   |--- deber <= 0.06\n",
      "|   |   |   |   |   |   |   |   |   |   |--- class: 3\n",
      "|   |   |   |   |   |   |   |   |   |--- deber >  0.06\n",
      "|   |   |   |   |   |   |   |   |   |   |--- class: 6\n",
      "|   |   |   |   |   |   |   |   |--- redar >  0.01\n",
      "|   |   |   |   |   |   |   |   |   |--- demócrata <= 0.02\n",
      "|   |   |   |   |   |   |   |   |   |   |--- class: 6\n",
      "|   |   |   |   |   |   |   |   |   |--- demócrata >  0.02\n",
      "|   |   |   |   |   |   |   |   |   |   |--- noticiar <= 0.02\n",
      "|   |   |   |   |   |   |   |   |   |   |   |--- class: 0\n",
      "|   |   |   |   |   |   |   |   |   |   |--- noticiar >  0.02\n",
      "|   |   |   |   |   |   |   |   |   |   |   |--- class: 5\n",
      "|   |   |   |   |   |   |--- país >  0.05\n",
      "|   |   |   |   |   |   |   |--- fútbol <= 0.04\n",
      "|   |   |   |   |   |   |   |   |--- tributario <= 0.06\n",
      "|   |   |   |   |   |   |   |   |   |--- público <= 0.04\n",
      "|   |   |   |   |   |   |   |   |   |   |--- inversión <= 0.11\n",
      "|   |   |   |   |   |   |   |   |   |   |   |--- truncated branch of depth 12\n",
      "|   |   |   |   |   |   |   |   |   |   |--- inversión >  0.11\n",
      "|   |   |   |   |   |   |   |   |   |   |   |--- class: 2\n",
      "|   |   |   |   |   |   |   |   |   |--- público >  0.04\n",
      "|   |   |   |   |   |   |   |   |   |   |--- armar <= 0.03\n",
      "|   |   |   |   |   |   |   |   |   |   |   |--- truncated branch of depth 3\n",
      "|   |   |   |   |   |   |   |   |   |   |--- armar >  0.03\n",
      "|   |   |   |   |   |   |   |   |   |   |   |--- class: 3\n",
      "|   |   |   |   |   |   |   |   |--- tributario >  0.06\n",
      "|   |   |   |   |   |   |   |   |   |--- class: 2\n",
      "|   |   |   |   |   |   |   |--- fútbol >  0.04\n",
      "|   |   |   |   |   |   |   |   |--- class: 1\n",
      "|   |   |   |   |--- tecnología >  0.03\n",
      "|   |   |   |   |   |--- década <= 0.01\n",
      "|   |   |   |   |   |   |--- presidente <= 0.05\n",
      "|   |   |   |   |   |   |   |--- aire <= 0.02\n",
      "|   |   |   |   |   |   |   |   |--- youtube <= 0.09\n",
      "|   |   |   |   |   |   |   |   |   |--- comerciar <= 0.07\n",
      "|   |   |   |   |   |   |   |   |   |   |--- identificar <= 0.05\n",
      "|   |   |   |   |   |   |   |   |   |   |   |--- truncated branch of depth 16\n",
      "|   |   |   |   |   |   |   |   |   |   |--- identificar >  0.05\n",
      "|   |   |   |   |   |   |   |   |   |   |   |--- truncated branch of depth 2\n",
      "|   |   |   |   |   |   |   |   |   |--- comerciar >  0.07\n",
      "|   |   |   |   |   |   |   |   |   |   |--- inventario <= 0.02\n",
      "|   |   |   |   |   |   |   |   |   |   |   |--- class: 2\n",
      "|   |   |   |   |   |   |   |   |   |   |--- inventario >  0.02\n",
      "|   |   |   |   |   |   |   |   |   |   |   |--- class: 3\n",
      "|   |   |   |   |   |   |   |   |--- youtube >  0.09\n",
      "|   |   |   |   |   |   |   |   |   |--- zelandia <= 0.04\n",
      "|   |   |   |   |   |   |   |   |   |   |--- class: 6\n",
      "|   |   |   |   |   |   |   |   |   |--- zelandia >  0.04\n",
      "|   |   |   |   |   |   |   |   |   |   |--- class: 3\n",
      "|   |   |   |   |   |   |   |--- aire >  0.02\n",
      "|   |   |   |   |   |   |   |   |--- pieza <= 0.04\n",
      "|   |   |   |   |   |   |   |   |   |--- class: 6\n",
      "|   |   |   |   |   |   |   |   |--- pieza >  0.04\n",
      "|   |   |   |   |   |   |   |   |   |--- class: 0\n",
      "|   |   |   |   |   |   |--- presidente >  0.05\n",
      "|   |   |   |   |   |   |   |--- tecnología <= 0.15\n",
      "|   |   |   |   |   |   |   |   |--- millón <= 0.03\n",
      "|   |   |   |   |   |   |   |   |   |--- impactar <= 0.02\n",
      "|   |   |   |   |   |   |   |   |   |   |--- ofertar <= 0.05\n",
      "|   |   |   |   |   |   |   |   |   |   |   |--- class: 4\n",
      "|   |   |   |   |   |   |   |   |   |   |--- ofertar >  0.05\n",
      "|   |   |   |   |   |   |   |   |   |   |   |--- class: 6\n",
      "|   |   |   |   |   |   |   |   |   |--- impactar >  0.02\n",
      "|   |   |   |   |   |   |   |   |   |   |--- hacer <= 0.06\n",
      "|   |   |   |   |   |   |   |   |   |   |   |--- class: 5\n",
      "|   |   |   |   |   |   |   |   |   |   |--- hacer >  0.06\n",
      "|   |   |   |   |   |   |   |   |   |   |   |--- class: 1\n",
      "|   |   |   |   |   |   |   |   |--- millón >  0.03\n",
      "|   |   |   |   |   |   |   |   |   |--- responder <= 0.05\n",
      "|   |   |   |   |   |   |   |   |   |   |--- class: 2\n",
      "|   |   |   |   |   |   |   |   |   |--- responder >  0.05\n",
      "|   |   |   |   |   |   |   |   |   |   |--- class: 3\n",
      "|   |   |   |   |   |   |   |--- tecnología >  0.15\n",
      "|   |   |   |   |   |   |   |   |--- class: 5\n",
      "|   |   |   |   |   |--- década >  0.01\n",
      "|   |   |   |   |   |   |--- trabajar <= 0.03\n",
      "|   |   |   |   |   |   |   |--- class: 6\n",
      "|   |   |   |   |   |   |--- trabajar >  0.03\n",
      "|   |   |   |   |   |   |   |--- aboitiz <= 0.11\n",
      "|   |   |   |   |   |   |   |   |--- sentir <= 0.02\n",
      "|   |   |   |   |   |   |   |   |   |--- class: 4\n",
      "|   |   |   |   |   |   |   |   |--- sentir >  0.02\n",
      "|   |   |   |   |   |   |   |   |   |--- class: 3\n",
      "|   |   |   |   |   |   |   |--- aboitiz >  0.11\n",
      "|   |   |   |   |   |   |   |   |--- class: 0\n",
      "|   |   |   |--- película >  0.03\n",
      "|   |   |   |   |--- video <= 0.05\n",
      "|   |   |   |   |   |--- facebook <= 0.05\n",
      "|   |   |   |   |   |   |--- ley <= 0.09\n",
      "|   |   |   |   |   |   |   |--- serie <= 0.18\n",
      "|   |   |   |   |   |   |   |   |--- compañía <= 0.02\n",
      "|   |   |   |   |   |   |   |   |   |--- jurar <= 0.03\n",
      "|   |   |   |   |   |   |   |   |   |   |--- bandersnatch <= 0.06\n",
      "|   |   |   |   |   |   |   |   |   |   |   |--- truncated branch of depth 8\n",
      "|   |   |   |   |   |   |   |   |   |   |--- bandersnatch >  0.06\n",
      "|   |   |   |   |   |   |   |   |   |   |   |--- truncated branch of depth 2\n",
      "|   |   |   |   |   |   |   |   |   |--- jurar >  0.03\n",
      "|   |   |   |   |   |   |   |   |   |   |--- nuevo <= 0.02\n",
      "|   |   |   |   |   |   |   |   |   |   |   |--- class: 4\n",
      "|   |   |   |   |   |   |   |   |   |   |--- nuevo >  0.02\n",
      "|   |   |   |   |   |   |   |   |   |   |   |--- class: 6\n",
      "|   |   |   |   |   |   |   |   |--- compañía >  0.02\n",
      "|   |   |   |   |   |   |   |   |   |--- contar <= 0.05\n",
      "|   |   |   |   |   |   |   |   |   |   |--- contar <= 0.04\n",
      "|   |   |   |   |   |   |   |   |   |   |   |--- truncated branch of depth 3\n",
      "|   |   |   |   |   |   |   |   |   |   |--- contar >  0.04\n",
      "|   |   |   |   |   |   |   |   |   |   |   |--- class: 6\n",
      "|   |   |   |   |   |   |   |   |   |--- contar >  0.05\n",
      "|   |   |   |   |   |   |   |   |   |   |--- class: 0\n",
      "|   |   |   |   |   |   |   |--- serie >  0.18\n",
      "|   |   |   |   |   |   |   |   |--- videos <= 0.04\n",
      "|   |   |   |   |   |   |   |   |   |--- class: 6\n",
      "|   |   |   |   |   |   |   |   |--- videos >  0.04\n",
      "|   |   |   |   |   |   |   |   |   |--- class: 5\n",
      "|   |   |   |   |   |   |--- ley >  0.09\n",
      "|   |   |   |   |   |   |   |--- ministro <= 0.01\n",
      "|   |   |   |   |   |   |   |   |--- class: 5\n",
      "|   |   |   |   |   |   |   |--- ministro >  0.01\n",
      "|   |   |   |   |   |   |   |   |--- class: 3\n",
      "|   |   |   |   |   |--- facebook >  0.05\n",
      "|   |   |   |   |   |   |--- class: 5\n",
      "|   |   |   |   |--- video >  0.05\n",
      "|   |   |   |   |   |--- tener <= 0.06\n",
      "|   |   |   |   |   |   |--- película <= 0.08\n",
      "|   |   |   |   |   |   |   |--- inteligencia <= 0.05\n",
      "|   |   |   |   |   |   |   |   |--- class: 0\n",
      "|   |   |   |   |   |   |   |--- inteligencia >  0.05\n",
      "|   |   |   |   |   |   |   |   |--- class: 5\n",
      "|   |   |   |   |   |   |--- película >  0.08\n",
      "|   |   |   |   |   |   |   |--- anunciar <= 0.07\n",
      "|   |   |   |   |   |   |   |   |--- aparición <= 0.06\n",
      "|   |   |   |   |   |   |   |   |   |--- generar <= 0.04\n",
      "|   |   |   |   |   |   |   |   |   |   |--- class: 6\n",
      "|   |   |   |   |   |   |   |   |   |--- generar >  0.04\n",
      "|   |   |   |   |   |   |   |   |   |   |--- class: 5\n",
      "|   |   |   |   |   |   |   |   |--- aparición >  0.06\n",
      "|   |   |   |   |   |   |   |   |   |--- class: 0\n",
      "|   |   |   |   |   |   |   |--- anunciar >  0.07\n",
      "|   |   |   |   |   |   |   |   |--- class: 5\n",
      "|   |   |   |   |   |--- tener >  0.06\n",
      "|   |   |   |   |   |   |--- class: 5\n",
      "|   |   |--- económico >  0.05\n",
      "|   |   |   |--- = <= 0.06\n",
      "|   |   |   |   |--- político <= 0.03\n",
      "|   |   |   |   |   |--- defender <= 0.04\n",
      "|   |   |   |   |   |   |--- usuario <= 0.12\n",
      "|   |   |   |   |   |   |   |--- isla <= 0.05\n",
      "|   |   |   |   |   |   |   |   |--- plantear <= 0.04\n",
      "|   |   |   |   |   |   |   |   |   |--- ﻿1 <= 0.16\n",
      "|   |   |   |   |   |   |   |   |   |   |--- calidad <= 0.10\n",
      "|   |   |   |   |   |   |   |   |   |   |   |--- truncated branch of depth 17\n",
      "|   |   |   |   |   |   |   |   |   |   |--- calidad >  0.10\n",
      "|   |   |   |   |   |   |   |   |   |   |   |--- truncated branch of depth 2\n",
      "|   |   |   |   |   |   |   |   |   |--- ﻿1 >  0.16\n",
      "|   |   |   |   |   |   |   |   |   |   |--- vente <= 0.12\n",
      "|   |   |   |   |   |   |   |   |   |   |   |--- class: 4\n",
      "|   |   |   |   |   |   |   |   |   |   |--- vente >  0.12\n",
      "|   |   |   |   |   |   |   |   |   |   |   |--- class: 5\n",
      "|   |   |   |   |   |   |   |   |--- plantear >  0.04\n",
      "|   |   |   |   |   |   |   |   |   |--- class: 4\n",
      "|   |   |   |   |   |   |   |--- isla >  0.05\n",
      "|   |   |   |   |   |   |   |   |--- class: 3\n",
      "|   |   |   |   |   |   |--- usuario >  0.12\n",
      "|   |   |   |   |   |   |   |--- class: 5\n",
      "|   |   |   |   |   |--- defender >  0.04\n",
      "|   |   |   |   |   |   |--- class: 4\n",
      "|   |   |   |   |--- político >  0.03\n",
      "|   |   |   |   |   |--- agenda <= 0.07\n",
      "|   |   |   |   |   |   |--- banco <= 0.02\n",
      "|   |   |   |   |   |   |   |--- decir <= 0.05\n",
      "|   |   |   |   |   |   |   |   |--- anterior <= 0.02\n",
      "|   |   |   |   |   |   |   |   |   |--- modelar <= 0.05\n",
      "|   |   |   |   |   |   |   |   |   |   |--- economía <= 0.05\n",
      "|   |   |   |   |   |   |   |   |   |   |   |--- truncated branch of depth 4\n",
      "|   |   |   |   |   |   |   |   |   |   |--- economía >  0.05\n",
      "|   |   |   |   |   |   |   |   |   |   |   |--- class: 3\n",
      "|   |   |   |   |   |   |   |   |   |--- modelar >  0.05\n",
      "|   |   |   |   |   |   |   |   |   |   |--- class: 2\n",
      "|   |   |   |   |   |   |   |   |--- anterior >  0.02\n",
      "|   |   |   |   |   |   |   |   |   |--- class: 2\n",
      "|   |   |   |   |   |   |   |--- decir >  0.05\n",
      "|   |   |   |   |   |   |   |   |--- class: 3\n",
      "|   |   |   |   |   |   |--- banco >  0.02\n",
      "|   |   |   |   |   |   |   |--- class: 2\n",
      "|   |   |   |   |   |--- agenda >  0.07\n",
      "|   |   |   |   |   |   |--- class: 2\n",
      "|   |   |   |--- = >  0.06\n",
      "|   |   |   |   |--- bajo <= 0.09\n",
      "|   |   |   |   |   |--- compañía <= 0.03\n",
      "|   |   |   |   |   |   |--- quedar <= 0.03\n",
      "|   |   |   |   |   |   |   |--- tvplayer_holder <= 0.11\n",
      "|   |   |   |   |   |   |   |   |--- class: 3\n",
      "|   |   |   |   |   |   |   |--- tvplayer_holder >  0.11\n",
      "|   |   |   |   |   |   |   |   |--- class: 2\n",
      "|   |   |   |   |   |   |--- quedar >  0.03\n",
      "|   |   |   |   |   |   |   |--- class: 4\n",
      "|   |   |   |   |   |--- compañía >  0.03\n",
      "|   |   |   |   |   |   |--- class: 5\n",
      "|   |   |   |   |--- bajo >  0.09\n",
      "|   |   |   |   |   |--- class: 2\n",
      "|   |--- jugador >  0.04\n",
      "|   |   |--- videojuego <= 0.01\n",
      "|   |   |   |--- video <= 0.04\n",
      "|   |   |   |   |--- aplicación <= 0.03\n",
      "|   |   |   |   |   |--- herramienta <= 0.02\n",
      "|   |   |   |   |   |   |--- hijo <= 0.04\n",
      "|   |   |   |   |   |   |   |--- campaña <= 0.13\n",
      "|   |   |   |   |   |   |   |   |--- proyectar <= 0.09\n",
      "|   |   |   |   |   |   |   |   |   |--- chapecoense <= 0.26\n",
      "|   |   |   |   |   |   |   |   |   |   |--- profesional <= 0.16\n",
      "|   |   |   |   |   |   |   |   |   |   |   |--- truncated branch of depth 9\n",
      "|   |   |   |   |   |   |   |   |   |   |--- profesional >  0.16\n",
      "|   |   |   |   |   |   |   |   |   |   |   |--- class: 5\n",
      "|   |   |   |   |   |   |   |   |   |--- chapecoense >  0.26\n",
      "|   |   |   |   |   |   |   |   |   |   |--- class: 3\n",
      "|   |   |   |   |   |   |   |   |--- proyectar >  0.09\n",
      "|   |   |   |   |   |   |   |   |   |--- esperanzar <= 0.08\n",
      "|   |   |   |   |   |   |   |   |   |   |--- class: 6\n",
      "|   |   |   |   |   |   |   |   |   |--- esperanzar >  0.08\n",
      "|   |   |   |   |   |   |   |   |   |   |--- class: 0\n",
      "|   |   |   |   |   |   |   |--- campaña >  0.13\n",
      "|   |   |   |   |   |   |   |   |--- class: 6\n",
      "|   |   |   |   |   |   |--- hijo >  0.04\n",
      "|   |   |   |   |   |   |   |--- profesional <= 0.07\n",
      "|   |   |   |   |   |   |   |   |--- class: 6\n",
      "|   |   |   |   |   |   |   |--- profesional >  0.07\n",
      "|   |   |   |   |   |   |   |   |--- class: 1\n",
      "|   |   |   |   |   |--- herramienta >  0.02\n",
      "|   |   |   |   |   |   |--- class: 5\n",
      "|   |   |   |   |--- aplicación >  0.03\n",
      "|   |   |   |   |   |--- class: 5\n",
      "|   |   |   |--- video >  0.04\n",
      "|   |   |   |   |--- estar <= 0.05\n",
      "|   |   |   |   |   |--- conocer <= 0.03\n",
      "|   |   |   |   |   |   |--- ser <= 0.04\n",
      "|   |   |   |   |   |   |   |--- subir <= 0.04\n",
      "|   |   |   |   |   |   |   |   |--- haber <= 0.03\n",
      "|   |   |   |   |   |   |   |   |   |--- class: 1\n",
      "|   |   |   |   |   |   |   |   |--- haber >  0.03\n",
      "|   |   |   |   |   |   |   |   |   |--- class: 6\n",
      "|   |   |   |   |   |   |   |--- subir >  0.04\n",
      "|   |   |   |   |   |   |   |   |--- class: 6\n",
      "|   |   |   |   |   |   |--- ser >  0.04\n",
      "|   |   |   |   |   |   |   |--- cruzar <= 0.05\n",
      "|   |   |   |   |   |   |   |   |--- class: 6\n",
      "|   |   |   |   |   |   |   |--- cruzar >  0.05\n",
      "|   |   |   |   |   |   |   |   |--- class: 5\n",
      "|   |   |   |   |   |--- conocer >  0.03\n",
      "|   |   |   |   |   |   |--- creer <= 0.04\n",
      "|   |   |   |   |   |   |   |--- video <= 0.15\n",
      "|   |   |   |   |   |   |   |   |--- class: 5\n",
      "|   |   |   |   |   |   |   |--- video >  0.15\n",
      "|   |   |   |   |   |   |   |   |--- class: 3\n",
      "|   |   |   |   |   |   |--- creer >  0.04\n",
      "|   |   |   |   |   |   |   |--- mundo <= 0.04\n",
      "|   |   |   |   |   |   |   |   |--- class: 1\n",
      "|   |   |   |   |   |   |   |--- mundo >  0.04\n",
      "|   |   |   |   |   |   |   |   |--- class: 2\n",
      "|   |   |   |   |--- estar >  0.05\n",
      "|   |   |   |   |   |--- class: 5\n",
      "|   |   |--- videojuego >  0.01\n",
      "|   |   |   |--- cambiar <= 0.03\n",
      "|   |   |   |   |--- class: 5\n",
      "|   |   |   |--- cambiar >  0.03\n",
      "|   |   |   |   |--- coordinar <= 0.04\n",
      "|   |   |   |   |   |--- class: 4\n",
      "|   |   |   |   |--- coordinar >  0.04\n",
      "|   |   |   |   |   |--- class: 0\n",
      "|--- artista >  0.01\n",
      "|   |--- adjuntar <= 0.04\n",
      "|   |   |--- moda <= 0.12\n",
      "|   |   |   |--- 2009 <= 0.04\n",
      "|   |   |   |   |--- madurar <= 0.07\n",
      "|   |   |   |   |   |--- red <= 0.10\n",
      "|   |   |   |   |   |   |--- organización <= 0.12\n",
      "|   |   |   |   |   |   |   |--- experto <= 0.05\n",
      "|   |   |   |   |   |   |   |   |--- software <= 0.10\n",
      "|   |   |   |   |   |   |   |   |   |--- 2002 <= 0.10\n",
      "|   |   |   |   |   |   |   |   |   |   |--- símbolo <= 0.05\n",
      "|   |   |   |   |   |   |   |   |   |   |   |--- truncated branch of depth 14\n",
      "|   |   |   |   |   |   |   |   |   |   |--- símbolo >  0.05\n",
      "|   |   |   |   |   |   |   |   |   |   |   |--- class: 6\n",
      "|   |   |   |   |   |   |   |   |   |--- 2002 >  0.10\n",
      "|   |   |   |   |   |   |   |   |   |   |--- class: 3\n",
      "|   |   |   |   |   |   |   |   |--- software >  0.10\n",
      "|   |   |   |   |   |   |   |   |   |--- class: 5\n",
      "|   |   |   |   |   |   |   |--- experto >  0.05\n",
      "|   |   |   |   |   |   |   |   |--- class: 2\n",
      "|   |   |   |   |   |   |--- organización >  0.12\n",
      "|   |   |   |   |   |   |   |--- comentario <= 0.08\n",
      "|   |   |   |   |   |   |   |   |--- class: 4\n",
      "|   |   |   |   |   |   |   |--- comentario >  0.08\n",
      "|   |   |   |   |   |   |   |   |--- class: 5\n",
      "|   |   |   |   |   |--- red >  0.10\n",
      "|   |   |   |   |   |   |--- show <= 0.05\n",
      "|   |   |   |   |   |   |   |--- class: 6\n",
      "|   |   |   |   |   |   |--- show >  0.05\n",
      "|   |   |   |   |   |   |   |--- utilizar <= 0.04\n",
      "|   |   |   |   |   |   |   |   |--- class: 1\n",
      "|   |   |   |   |   |   |   |--- utilizar >  0.04\n",
      "|   |   |   |   |   |   |   |   |--- class: 5\n",
      "|   |   |   |   |--- madurar >  0.07\n",
      "|   |   |   |   |   |--- dejar <= 0.02\n",
      "|   |   |   |   |   |   |--- class: 3\n",
      "|   |   |   |   |   |--- dejar >  0.02\n",
      "|   |   |   |   |   |   |--- class: 6\n",
      "|   |   |   |--- 2009 >  0.04\n",
      "|   |   |   |   |--- class: 6\n",
      "|   |   |--- moda >  0.12\n",
      "|   |   |   |--- class: 6\n",
      "|   |--- adjuntar >  0.04\n",
      "|   |   |--- creador <= 0.05\n",
      "|   |   |   |--- meryl <= 0.15\n",
      "|   |   |   |   |--- class: 6\n",
      "|   |   |   |--- meryl >  0.15\n",
      "|   |   |   |   |--- class: 3\n",
      "|   |   |--- creador >  0.05\n",
      "|   |   |   |--- class: 5\n",
      "\n"
     ]
    }
   ],
   "source": [
    "txt_representation = tree.export_text(my_tree, feature_names=tfidf_vectorizer.get_feature_names(), max_depth=10)\n",
    "print(txt_representation)"
   ]
  },
  {
   "cell_type": "code",
   "execution_count": null,
   "metadata": {},
   "outputs": [],
   "source": []
  }
 ],
 "metadata": {
  "kernelspec": {
   "display_name": "Python 3",
   "language": "python",
   "name": "python3"
  },
  "language_info": {
   "codemirror_mode": {
    "name": "ipython",
    "version": 3
   },
   "file_extension": ".py",
   "mimetype": "text/x-python",
   "name": "python",
   "nbconvert_exporter": "python",
   "pygments_lexer": "ipython3",
   "version": "3.8.3"
  }
 },
 "nbformat": 4,
 "nbformat_minor": 4
}
