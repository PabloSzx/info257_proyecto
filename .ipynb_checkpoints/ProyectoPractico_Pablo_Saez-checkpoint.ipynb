{
 "cells": [
  {
   "cell_type": "markdown",
   "metadata": {},
   "source": [
    "# Proyecto práctico\n",
    "\n",
    "# Por: __Pablo Sáez Parra__\n",
    "\n",
    "## Unidad 3 - Aprendizaje supervisado\n",
    "\n",
    "El proyecto práctico consiste en abordar un problema de clasificación de documentos textuales. Tenemos a nuestra disposición un dataset de noticias de prensa en español publicada por el medio \"CNN Chile\".\n",
    "\n",
    "Las noticias están divididas en 7 categorías temáticas: *'pais','deportes','tendencias','tecnologias','cultura','economia','mundo'*\n",
    "\n",
    "El proyecto se divide en dos partes:\n",
    "\n",
    "- Utilizar al menos 3 estrategías para entrenar modelos de clasificación capaces de clasificar las noticias según su categoría temática.\n",
    "\n",
    "- Explorar cuáles son las características que permiten explicar las decisiones de su modelo.\n",
    "\n",
    "## 0. Evaluación\n",
    "\n",
    "El proyecto se realiza de forma individual. Se entrega a más tardar el **martes 15 de diciembre** en su repositorio GitHub.\n",
    "\n",
    "**Pauta de evaluación:**\n",
    "\n",
    "Competencia 1: Aplicar un protocolo de aprendizaje supervisado para resolver un problema clasificación estandar, utilizando un entorno de programación en Python\n",
    "\n",
    "- < 2 : El protocolo de aprendizaje supervisado utilizado es incompleto y/o presenta errores importantes\n",
    "- 2 a 3.9 : El protocolo de aprendizaje supervisado utilizado es incompleto o presenta un error importante\n",
    "- 4 a 5.5 : El protocolo de aprendizaje es completo, no tiene error, pero las estrategias utilizadas son relativamente simples y el rendimiento de los modelos es perfectible.\n",
    "- 5.6 a 7.0 : El protocolo de aprendizaje es completo, no tiene error y al menos una de las estrategias utilizadas a necesitado un trabajado más avanzado y/o permite obtener un mejor rendimiento.\n",
    "\n",
    "Competencia 2: Explicar el rendimiento de un modelo de clasificación aplicando un protocolo de evaluación Precision/Recall/F-Score\n",
    "\n",
    "- < 2 : El trabajo no presenta explicaciones del rendimiento de los modelos de clasificación\n",
    "- 2 a 3.9 : El trabajo presenta algunas explicaciones pero tienen errores.\n",
    "- 4 a 5.5 : El trabajo presenta explicaciones correctas del rendimiento de los modelos\n",
    "- 5.6 a 7 : El trabajo presenta explicaciones correctas del rendimiento de los modelos y además presenta un método para explicar las decisiones/errores\n"
   ]
  },
  {
   "cell_type": "markdown",
   "metadata": {},
   "source": [
    "## 1. Dataset"
   ]
  },
  {
   "cell_type": "code",
   "execution_count": 4,
   "metadata": {},
   "outputs": [
    {
     "data": {
      "text/html": [
       "<div>\n",
       "<style scoped>\n",
       "    .dataframe tbody tr th:only-of-type {\n",
       "        vertical-align: middle;\n",
       "    }\n",
       "\n",
       "    .dataframe tbody tr th {\n",
       "        vertical-align: top;\n",
       "    }\n",
       "\n",
       "    .dataframe thead th {\n",
       "        text-align: right;\n",
       "    }\n",
       "</style>\n",
       "<table border=\"1\" class=\"dataframe\">\n",
       "  <thead>\n",
       "    <tr style=\"text-align: right;\">\n",
       "      <th></th>\n",
       "      <th>country</th>\n",
       "      <th>media_outlet</th>\n",
       "      <th>url</th>\n",
       "      <th>title</th>\n",
       "      <th>text</th>\n",
       "      <th>date</th>\n",
       "      <th>category</th>\n",
       "    </tr>\n",
       "  </thead>\n",
       "  <tbody>\n",
       "    <tr>\n",
       "      <th>0</th>\n",
       "      <td>chile</td>\n",
       "      <td>cnnchile</td>\n",
       "      <td>https://www.cnnchile.com/pais/pdta-del-colegio...</td>\n",
       "      <td>Pdta. del Colegio de Matronas explicó los ries...</td>\n",
       "      <td>La Federación de Estudiantes de la Universidad...</td>\n",
       "      <td>2018-03-29 00:00:00.000000</td>\n",
       "      <td>pais</td>\n",
       "    </tr>\n",
       "    <tr>\n",
       "      <th>1</th>\n",
       "      <td>chile</td>\n",
       "      <td>cnnchile</td>\n",
       "      <td>https://www.cnnchile.com/pais/defensoria-ninez...</td>\n",
       "      <td>Defensoría de la Niñez pide al Estado velar po...</td>\n",
       "      <td>La Defensoría de la Niñez emitió este domingo ...</td>\n",
       "      <td>2020-08-02 00:00:00.000000</td>\n",
       "      <td>pais</td>\n",
       "    </tr>\n",
       "    <tr>\n",
       "      <th>2</th>\n",
       "      <td>chile</td>\n",
       "      <td>cnnchile</td>\n",
       "      <td>https://www.cnnchile.com/pais/cuanto-les-pagar...</td>\n",
       "      <td>¿Cuánto les pagarán a los vocales de mesa?</td>\n",
       "      <td>El monto del bono es de dos tercios de Unidad ...</td>\n",
       "      <td>2016-10-20 00:00:00.000000</td>\n",
       "      <td>pais</td>\n",
       "    </tr>\n",
       "    <tr>\n",
       "      <th>3</th>\n",
       "      <td>chile</td>\n",
       "      <td>cnnchile</td>\n",
       "      <td>https://www.cnnchile.com/pais/sobrino-de-aleja...</td>\n",
       "      <td>Sobrino de Alejandro Navarro intenta “funar” e...</td>\n",
       "      <td>Una nueva polémica tiene esta carrera presiden...</td>\n",
       "      <td>2017-11-13 00:00:00.000000</td>\n",
       "      <td>pais</td>\n",
       "    </tr>\n",
       "    <tr>\n",
       "      <th>4</th>\n",
       "      <td>chile</td>\n",
       "      <td>cnnchile</td>\n",
       "      <td>https://www.cnnchile.com/pais/analisis-sobre-e...</td>\n",
       "      <td>Análisis sobre el aumento de impuestos para al...</td>\n",
       "      <td>Especialistas recomiendan no consumir más de 2...</td>\n",
       "      <td>2014-05-05 00:00:00.000000</td>\n",
       "      <td>pais</td>\n",
       "    </tr>\n",
       "    <tr>\n",
       "      <th>...</th>\n",
       "      <td>...</td>\n",
       "      <td>...</td>\n",
       "      <td>...</td>\n",
       "      <td>...</td>\n",
       "      <td>...</td>\n",
       "      <td>...</td>\n",
       "      <td>...</td>\n",
       "    </tr>\n",
       "    <tr>\n",
       "      <th>6995</th>\n",
       "      <td>chile</td>\n",
       "      <td>cnnchile</td>\n",
       "      <td>https://www.cnnchile.com/tecnologias/playstati...</td>\n",
       "      <td>PlayStation 5 vs Xbox Series X: Mira la compar...</td>\n",
       "      <td>Las compañías ya han revelado muchos detalles ...</td>\n",
       "      <td>2020-09-18 00:00:00.000000</td>\n",
       "      <td>tecnologias</td>\n",
       "    </tr>\n",
       "    <tr>\n",
       "      <th>6996</th>\n",
       "      <td>chile</td>\n",
       "      <td>cnnchile</td>\n",
       "      <td>https://www.cnnchile.com/tecnologias/android-l...</td>\n",
       "      <td>Android le dará “una paliza” a Windows en 2013</td>\n",
       "      <td>Se proyecta que tras un virtual empate en 2012...</td>\n",
       "      <td>2013-04-04 00:00:00.000000</td>\n",
       "      <td>tecnologias</td>\n",
       "    </tr>\n",
       "    <tr>\n",
       "      <th>6997</th>\n",
       "      <td>chile</td>\n",
       "      <td>cnnchile</td>\n",
       "      <td>https://www.cnnchile.com/tecnologias/regalos-t...</td>\n",
       "      <td>Regalos tecnológicos marcaron pauta en Navidad</td>\n",
       "      <td>Tablets y smartphones fueron los regalos tecno...</td>\n",
       "      <td>2012-12-26 00:00:00.000000</td>\n",
       "      <td>tecnologias</td>\n",
       "    </tr>\n",
       "    <tr>\n",
       "      <th>6998</th>\n",
       "      <td>chile</td>\n",
       "      <td>cnnchile</td>\n",
       "      <td>https://www.cnnchile.com/tecnologias/jugar-con...</td>\n",
       "      <td>Jugar con Fox en Starlink vale totalmente la p...</td>\n",
       "      <td>Crecí jugando clásicos de naves como Terminal ...</td>\n",
       "      <td>2018-10-30 00:00:00.000000</td>\n",
       "      <td>tecnologias</td>\n",
       "    </tr>\n",
       "    <tr>\n",
       "      <th>6999</th>\n",
       "      <td>chile</td>\n",
       "      <td>cnnchile</td>\n",
       "      <td>https://www.cnnchile.com/tecnologias/konami-la...</td>\n",
       "      <td>Konami lanza PES 2018 de forma gratuita para i...</td>\n",
       "      <td>Konami Digital Entertainment ha anunciado que ...</td>\n",
       "      <td>2017-11-10 00:00:00.000000</td>\n",
       "      <td>tecnologias</td>\n",
       "    </tr>\n",
       "  </tbody>\n",
       "</table>\n",
       "<p>7000 rows × 7 columns</p>\n",
       "</div>"
      ],
      "text/plain": [
       "     country media_outlet                                                url  \\\n",
       "0      chile     cnnchile  https://www.cnnchile.com/pais/pdta-del-colegio...   \n",
       "1      chile     cnnchile  https://www.cnnchile.com/pais/defensoria-ninez...   \n",
       "2      chile     cnnchile  https://www.cnnchile.com/pais/cuanto-les-pagar...   \n",
       "3      chile     cnnchile  https://www.cnnchile.com/pais/sobrino-de-aleja...   \n",
       "4      chile     cnnchile  https://www.cnnchile.com/pais/analisis-sobre-e...   \n",
       "...      ...          ...                                                ...   \n",
       "6995   chile     cnnchile  https://www.cnnchile.com/tecnologias/playstati...   \n",
       "6996   chile     cnnchile  https://www.cnnchile.com/tecnologias/android-l...   \n",
       "6997   chile     cnnchile  https://www.cnnchile.com/tecnologias/regalos-t...   \n",
       "6998   chile     cnnchile  https://www.cnnchile.com/tecnologias/jugar-con...   \n",
       "6999   chile     cnnchile  https://www.cnnchile.com/tecnologias/konami-la...   \n",
       "\n",
       "                                                  title  \\\n",
       "0     Pdta. del Colegio de Matronas explicó los ries...   \n",
       "1     Defensoría de la Niñez pide al Estado velar po...   \n",
       "2            ¿Cuánto les pagarán a los vocales de mesa?   \n",
       "3     Sobrino de Alejandro Navarro intenta “funar” e...   \n",
       "4     Análisis sobre el aumento de impuestos para al...   \n",
       "...                                                 ...   \n",
       "6995  PlayStation 5 vs Xbox Series X: Mira la compar...   \n",
       "6996     Android le dará “una paliza” a Windows en 2013   \n",
       "6997     Regalos tecnológicos marcaron pauta en Navidad   \n",
       "6998  Jugar con Fox en Starlink vale totalmente la p...   \n",
       "6999  Konami lanza PES 2018 de forma gratuita para i...   \n",
       "\n",
       "                                                   text  \\\n",
       "0     La Federación de Estudiantes de la Universidad...   \n",
       "1     La Defensoría de la Niñez emitió este domingo ...   \n",
       "2     El monto del bono es de dos tercios de Unidad ...   \n",
       "3     Una nueva polémica tiene esta carrera presiden...   \n",
       "4     Especialistas recomiendan no consumir más de 2...   \n",
       "...                                                 ...   \n",
       "6995  Las compañías ya han revelado muchos detalles ...   \n",
       "6996  Se proyecta que tras un virtual empate en 2012...   \n",
       "6997  Tablets y smartphones fueron los regalos tecno...   \n",
       "6998  Crecí jugando clásicos de naves como Terminal ...   \n",
       "6999  Konami Digital Entertainment ha anunciado que ...   \n",
       "\n",
       "                            date     category  \n",
       "0     2018-03-29 00:00:00.000000         pais  \n",
       "1     2020-08-02 00:00:00.000000         pais  \n",
       "2     2016-10-20 00:00:00.000000         pais  \n",
       "3     2017-11-13 00:00:00.000000         pais  \n",
       "4     2014-05-05 00:00:00.000000         pais  \n",
       "...                          ...          ...  \n",
       "6995  2020-09-18 00:00:00.000000  tecnologias  \n",
       "6996  2013-04-04 00:00:00.000000  tecnologias  \n",
       "6997  2012-12-26 00:00:00.000000  tecnologias  \n",
       "6998  2018-10-30 00:00:00.000000  tecnologias  \n",
       "6999  2017-11-10 00:00:00.000000  tecnologias  \n",
       "\n",
       "[7000 rows x 7 columns]"
      ]
     },
     "execution_count": 4,
     "metadata": {},
     "output_type": "execute_result"
    }
   ],
   "source": [
    "import pandas as pd\n",
    "import seaborn as sb\n",
    "import numpy as np\n",
    "import spacy\n",
    "import time\n",
    "import matplotlib.pyplot as plt\n",
    "\n",
    "df = pd.read_csv('cnnchile_7000.csv')\n",
    "df"
   ]
  },
  {
   "cell_type": "code",
   "execution_count": 30,
   "metadata": {},
   "outputs": [
    {
     "data": {
      "text/html": [
       "<div>\n",
       "<style scoped>\n",
       "    .dataframe tbody tr th:only-of-type {\n",
       "        vertical-align: middle;\n",
       "    }\n",
       "\n",
       "    .dataframe tbody tr th {\n",
       "        vertical-align: top;\n",
       "    }\n",
       "\n",
       "    .dataframe thead th {\n",
       "        text-align: right;\n",
       "    }\n",
       "</style>\n",
       "<table border=\"1\" class=\"dataframe\">\n",
       "  <thead>\n",
       "    <tr style=\"text-align: right;\">\n",
       "      <th></th>\n",
       "      <th>category</th>\n",
       "      <th>count(*)</th>\n",
       "    </tr>\n",
       "  </thead>\n",
       "  <tbody>\n",
       "    <tr>\n",
       "      <th>0</th>\n",
       "      <td>tendencias</td>\n",
       "      <td>1000</td>\n",
       "    </tr>\n",
       "    <tr>\n",
       "      <th>1</th>\n",
       "      <td>tecnologias</td>\n",
       "      <td>1000</td>\n",
       "    </tr>\n",
       "    <tr>\n",
       "      <th>2</th>\n",
       "      <td>pais</td>\n",
       "      <td>1000</td>\n",
       "    </tr>\n",
       "    <tr>\n",
       "      <th>3</th>\n",
       "      <td>mundo</td>\n",
       "      <td>1000</td>\n",
       "    </tr>\n",
       "    <tr>\n",
       "      <th>4</th>\n",
       "      <td>economia</td>\n",
       "      <td>1000</td>\n",
       "    </tr>\n",
       "    <tr>\n",
       "      <th>5</th>\n",
       "      <td>deportes</td>\n",
       "      <td>1000</td>\n",
       "    </tr>\n",
       "    <tr>\n",
       "      <th>6</th>\n",
       "      <td>cultura</td>\n",
       "      <td>1000</td>\n",
       "    </tr>\n",
       "  </tbody>\n",
       "</table>\n",
       "</div>"
      ],
      "text/plain": [
       "      category  count(*)\n",
       "0   tendencias      1000\n",
       "1  tecnologias      1000\n",
       "2         pais      1000\n",
       "3        mundo      1000\n",
       "4     economia      1000\n",
       "5     deportes      1000\n",
       "6      cultura      1000"
      ]
     },
     "execution_count": 30,
     "metadata": {},
     "output_type": "execute_result"
    }
   ],
   "source": [
    "from pandasql import sqldf\n",
    "\n",
    "q=\"\"\"SELECT category, count(*) FROM df GROUP BY category ORDER BY count(*) DESC;\"\"\"\n",
    "result=sqldf(q)\n",
    "result"
   ]
  },
  {
   "cell_type": "code",
   "execution_count": 31,
   "metadata": {},
   "outputs": [],
   "source": [
    "import sys\n",
    "\n",
    "#!{sys.executable} -m spacy download es\n",
    "\n",
    "nlp = spacy.load(\"es\")\n",
    "\n",
    "from sklearn import metrics"
   ]
  },
  {
   "cell_type": "markdown",
   "metadata": {},
   "source": [
    "## 1.1 Preprocessing"
   ]
  },
  {
   "cell_type": "markdown",
   "metadata": {},
   "source": [
    "Es necesario quitar las columnas que no dan información relevante para el análisis, como país, medio de comunicación, fecha y url."
   ]
  },
  {
   "cell_type": "code",
   "execution_count": 32,
   "metadata": {},
   "outputs": [
    {
     "data": {
      "text/html": [
       "<div>\n",
       "<style scoped>\n",
       "    .dataframe tbody tr th:only-of-type {\n",
       "        vertical-align: middle;\n",
       "    }\n",
       "\n",
       "    .dataframe tbody tr th {\n",
       "        vertical-align: top;\n",
       "    }\n",
       "\n",
       "    .dataframe thead th {\n",
       "        text-align: right;\n",
       "    }\n",
       "</style>\n",
       "<table border=\"1\" class=\"dataframe\">\n",
       "  <thead>\n",
       "    <tr style=\"text-align: right;\">\n",
       "      <th></th>\n",
       "      <th>title</th>\n",
       "      <th>text</th>\n",
       "      <th>category</th>\n",
       "    </tr>\n",
       "  </thead>\n",
       "  <tbody>\n",
       "    <tr>\n",
       "      <th>0</th>\n",
       "      <td>Pdta. del Colegio de Matronas explicó los ries...</td>\n",
       "      <td>La Federación de Estudiantes de la Universidad...</td>\n",
       "      <td>pais</td>\n",
       "    </tr>\n",
       "    <tr>\n",
       "      <th>1</th>\n",
       "      <td>Defensoría de la Niñez pide al Estado velar po...</td>\n",
       "      <td>La Defensoría de la Niñez emitió este domingo ...</td>\n",
       "      <td>pais</td>\n",
       "    </tr>\n",
       "    <tr>\n",
       "      <th>2</th>\n",
       "      <td>¿Cuánto les pagarán a los vocales de mesa?</td>\n",
       "      <td>El monto del bono es de dos tercios de Unidad ...</td>\n",
       "      <td>pais</td>\n",
       "    </tr>\n",
       "    <tr>\n",
       "      <th>3</th>\n",
       "      <td>Sobrino de Alejandro Navarro intenta “funar” e...</td>\n",
       "      <td>Una nueva polémica tiene esta carrera presiden...</td>\n",
       "      <td>pais</td>\n",
       "    </tr>\n",
       "    <tr>\n",
       "      <th>4</th>\n",
       "      <td>Análisis sobre el aumento de impuestos para al...</td>\n",
       "      <td>Especialistas recomiendan no consumir más de 2...</td>\n",
       "      <td>pais</td>\n",
       "    </tr>\n",
       "    <tr>\n",
       "      <th>5</th>\n",
       "      <td>Encuesta Libertad y Desarrollo: Temor a perder...</td>\n",
       "      <td>Francisco Klapp profundizó en el último sondeo...</td>\n",
       "      <td>pais</td>\n",
       "    </tr>\n",
       "    <tr>\n",
       "      <th>6</th>\n",
       "      <td>Presidenta decretó zona de catástrofe para reg...</td>\n",
       "      <td>La mandataria informó que recibió mensajes de ...</td>\n",
       "      <td>pais</td>\n",
       "    </tr>\n",
       "    <tr>\n",
       "      <th>7</th>\n",
       "      <td>Autoridades de Transporte anunciaron nuevos bu...</td>\n",
       "      <td>El Ministro de Transporte Andrés Gómez-Lobo en...</td>\n",
       "      <td>pais</td>\n",
       "    </tr>\n",
       "    <tr>\n",
       "      <th>8</th>\n",
       "      <td>Polémica por cantidad de casas destruidas</td>\n",
       "      <td>Confución generaron los datos entregados por l...</td>\n",
       "      <td>pais</td>\n",
       "    </tr>\n",
       "    <tr>\n",
       "      <th>9</th>\n",
       "      <td>Interponen nueva demanda contra CCU por prácti...</td>\n",
       "      <td>La firma ligada al grupo Luksic habría iniciad...</td>\n",
       "      <td>pais</td>\n",
       "    </tr>\n",
       "  </tbody>\n",
       "</table>\n",
       "</div>"
      ],
      "text/plain": [
       "                                               title  \\\n",
       "0  Pdta. del Colegio de Matronas explicó los ries...   \n",
       "1  Defensoría de la Niñez pide al Estado velar po...   \n",
       "2         ¿Cuánto les pagarán a los vocales de mesa?   \n",
       "3  Sobrino de Alejandro Navarro intenta “funar” e...   \n",
       "4  Análisis sobre el aumento de impuestos para al...   \n",
       "5  Encuesta Libertad y Desarrollo: Temor a perder...   \n",
       "6  Presidenta decretó zona de catástrofe para reg...   \n",
       "7  Autoridades de Transporte anunciaron nuevos bu...   \n",
       "8          Polémica por cantidad de casas destruidas   \n",
       "9  Interponen nueva demanda contra CCU por prácti...   \n",
       "\n",
       "                                                text category  \n",
       "0  La Federación de Estudiantes de la Universidad...     pais  \n",
       "1  La Defensoría de la Niñez emitió este domingo ...     pais  \n",
       "2  El monto del bono es de dos tercios de Unidad ...     pais  \n",
       "3  Una nueva polémica tiene esta carrera presiden...     pais  \n",
       "4  Especialistas recomiendan no consumir más de 2...     pais  \n",
       "5  Francisco Klapp profundizó en el último sondeo...     pais  \n",
       "6  La mandataria informó que recibió mensajes de ...     pais  \n",
       "7  El Ministro de Transporte Andrés Gómez-Lobo en...     pais  \n",
       "8  Confución generaron los datos entregados por l...     pais  \n",
       "9  La firma ligada al grupo Luksic habría iniciad...     pais  "
      ]
     },
     "execution_count": 32,
     "metadata": {},
     "output_type": "execute_result"
    }
   ],
   "source": [
    "data = df.drop(columns=[\"country\", \"media_outlet\", \"url\", \"date\"])\n",
    "\n",
    "data[:10]"
   ]
  },
  {
   "cell_type": "code",
   "execution_count": 33,
   "metadata": {},
   "outputs": [
    {
     "data": {
      "text/plain": [
       "title       1\n",
       "text        0\n",
       "category    0\n",
       "dtype: int64"
      ]
     },
     "execution_count": 33,
     "metadata": {},
     "output_type": "execute_result"
    }
   ],
   "source": [
    "data.isnull().sum()"
   ]
  },
  {
   "cell_type": "markdown",
   "metadata": {},
   "source": [
    "Existe 1 campo sin título, por efectos de simplicidad lo eliminaremos"
   ]
  },
  {
   "cell_type": "code",
   "execution_count": 34,
   "metadata": {},
   "outputs": [
    {
     "data": {
      "text/plain": [
       "title       0\n",
       "text        0\n",
       "category    0\n",
       "dtype: int64"
      ]
     },
     "execution_count": 34,
     "metadata": {},
     "output_type": "execute_result"
    }
   ],
   "source": [
    "data.dropna(inplace=True)\n",
    "data.isnull().sum()"
   ]
  },
  {
   "cell_type": "code",
   "execution_count": 35,
   "metadata": {},
   "outputs": [
    {
     "name": "stdout",
     "output_type": "stream",
     "text": [
      "<class 'pandas.core.frame.DataFrame'>\n",
      "Int64Index: 6999 entries, 0 to 6999\n",
      "Data columns (total 3 columns):\n",
      " #   Column    Non-Null Count  Dtype \n",
      "---  ------    --------------  ----- \n",
      " 0   title     6999 non-null   object\n",
      " 1   text      6999 non-null   object\n",
      " 2   category  6999 non-null   object\n",
      "dtypes: object(3)\n",
      "memory usage: 218.7+ KB\n"
     ]
    }
   ],
   "source": [
    "data.info()"
   ]
  },
  {
   "cell_type": "markdown",
   "metadata": {},
   "source": [
    "> Por efectos de simplicidad se junta el título y el texto de la noticia, añadiendo un punto entre ellos"
   ]
  },
  {
   "cell_type": "code",
   "execution_count": 108,
   "metadata": {},
   "outputs": [
    {
     "name": "stdout",
     "output_type": "stream",
     "text": [
      "Solo título: --- Pdta. del Colegio de Matronas explicó los riesgos de usar Misotrol sin supervisión médica ---\n",
      "Solo texto: -- La Federación de Estudiantes de la Universidad de Chile, entregó un instructivo para enseñar cómo interrumpir un embarazo con medicamentos, lo que ha generado críticas entre médicos y expertos. “Tenemos que tener ciertas prevenciones, el Misotrol es altamente riesgoso, es cierto que la OMS dice que es el más seguro para provocar un aborto, pero bajo vigilancia médica y en condiciones estrictas en cuanto a semanas de embarazo”, informó. Además Anita Román dijo que “si el Misotrol vendido no es completo, si tiene mitad de estafa en la venta lo más probable es que la niña no aborte, pero ese poco de Misotrol le provocará secuelas al bebé”. En segundo lugar “si lo toma después de las 11 semanas y está sola se le producirá un sangramiento cuantioso y lo más probable es que tenga una anemia aguda, que necesite atención médica urgente“. La presidenta del Colegio de Matronas indicó que fue una irresponsabilidad incluir esta información e indicaciones sobre el Misotrol con un copypaste como algo seguro y agregó que “no todas las mujeres tienen la misma respuesta”. Más detalles de la entrevista en el video adjunto.  --\n",
      "\n",
      "Concatenado título+texto: - Pdta. del Colegio de Matronas explicó los riesgos de usar Misotrol sin supervisión médica. La Federación de Estudiantes de la Universidad de Chile, entregó un instructivo para enseñar cómo interrumpir un embarazo con medicamentos, lo que ha generado críticas entre médicos y expertos. “Tenemos que tener ciertas prevenciones, el Misotrol es altamente riesgoso, es cierto que la OMS dice que es el más seguro para provocar un aborto, pero bajo vigilancia médica y en condiciones estrictas en cuanto a semanas de embarazo”, informó. Además Anita Román dijo que “si el Misotrol vendido no es completo, si tiene mitad de estafa en la venta lo más probable es que la niña no aborte, pero ese poco de Misotrol le provocará secuelas al bebé”. En segundo lugar “si lo toma después de las 11 semanas y está sola se le producirá un sangramiento cuantioso y lo más probable es que tenga una anemia aguda, que necesite atención médica urgente“. La presidenta del Colegio de Matronas indicó que fue una irresponsabilidad incluir esta información e indicaciones sobre el Misotrol con un copypaste como algo seguro y agregó que “no todas las mujeres tienen la misma respuesta”. Más detalles de la entrevista en el video adjunto.  -\n"
     ]
    },
    {
     "data": {
      "text/html": [
       "<div>\n",
       "<style scoped>\n",
       "    .dataframe tbody tr th:only-of-type {\n",
       "        vertical-align: middle;\n",
       "    }\n",
       "\n",
       "    .dataframe tbody tr th {\n",
       "        vertical-align: top;\n",
       "    }\n",
       "\n",
       "    .dataframe thead th {\n",
       "        text-align: right;\n",
       "    }\n",
       "</style>\n",
       "<table border=\"1\" class=\"dataframe\">\n",
       "  <thead>\n",
       "    <tr style=\"text-align: right;\">\n",
       "      <th></th>\n",
       "      <th>text</th>\n",
       "      <th>category</th>\n",
       "    </tr>\n",
       "  </thead>\n",
       "  <tbody>\n",
       "    <tr>\n",
       "      <th>0</th>\n",
       "      <td>Pdta. del Colegio de Matronas explicó los ries...</td>\n",
       "      <td>pais</td>\n",
       "    </tr>\n",
       "    <tr>\n",
       "      <th>1</th>\n",
       "      <td>Defensoría de la Niñez pide al Estado velar po...</td>\n",
       "      <td>pais</td>\n",
       "    </tr>\n",
       "    <tr>\n",
       "      <th>2</th>\n",
       "      <td>¿Cuánto les pagarán a los vocales de mesa?. El...</td>\n",
       "      <td>pais</td>\n",
       "    </tr>\n",
       "    <tr>\n",
       "      <th>3</th>\n",
       "      <td>Sobrino de Alejandro Navarro intenta “funar” e...</td>\n",
       "      <td>pais</td>\n",
       "    </tr>\n",
       "    <tr>\n",
       "      <th>4</th>\n",
       "      <td>Análisis sobre el aumento de impuestos para al...</td>\n",
       "      <td>pais</td>\n",
       "    </tr>\n",
       "    <tr>\n",
       "      <th>...</th>\n",
       "      <td>...</td>\n",
       "      <td>...</td>\n",
       "    </tr>\n",
       "    <tr>\n",
       "      <th>6995</th>\n",
       "      <td>Android le dará “una paliza” a Windows en 2013...</td>\n",
       "      <td>tecnologias</td>\n",
       "    </tr>\n",
       "    <tr>\n",
       "      <th>6996</th>\n",
       "      <td>Regalos tecnológicos marcaron pauta en Navidad...</td>\n",
       "      <td>tecnologias</td>\n",
       "    </tr>\n",
       "    <tr>\n",
       "      <th>6997</th>\n",
       "      <td>Jugar con Fox en Starlink vale totalmente la p...</td>\n",
       "      <td>tecnologias</td>\n",
       "    </tr>\n",
       "    <tr>\n",
       "      <th>6998</th>\n",
       "      <td>Konami lanza PES 2018 de forma gratuita para i...</td>\n",
       "      <td>tecnologias</td>\n",
       "    </tr>\n",
       "    <tr>\n",
       "      <th>6999</th>\n",
       "      <td>Konami Digital Entertainment ha anunciado que ...</td>\n",
       "      <td>tecnologias</td>\n",
       "    </tr>\n",
       "  </tbody>\n",
       "</table>\n",
       "<p>6999 rows × 2 columns</p>\n",
       "</div>"
      ],
      "text/plain": [
       "                                                   text     category\n",
       "0     Pdta. del Colegio de Matronas explicó los ries...         pais\n",
       "1     Defensoría de la Niñez pide al Estado velar po...         pais\n",
       "2     ¿Cuánto les pagarán a los vocales de mesa?. El...         pais\n",
       "3     Sobrino de Alejandro Navarro intenta “funar” e...         pais\n",
       "4     Análisis sobre el aumento de impuestos para al...         pais\n",
       "...                                                 ...          ...\n",
       "6995  Android le dará “una paliza” a Windows en 2013...  tecnologias\n",
       "6996  Regalos tecnológicos marcaron pauta en Navidad...  tecnologias\n",
       "6997  Jugar con Fox en Starlink vale totalmente la p...  tecnologias\n",
       "6998  Konami lanza PES 2018 de forma gratuita para i...  tecnologias\n",
       "6999  Konami Digital Entertainment ha anunciado que ...  tecnologias\n",
       "\n",
       "[6999 rows x 2 columns]"
      ]
     },
     "execution_count": 108,
     "metadata": {},
     "output_type": "execute_result"
    }
   ],
   "source": [
    "data_final = data.copy()\n",
    "\n",
    "titles = []\n",
    "for title in data_final[\"title\"]:\n",
    "    titles.append(title)\n",
    "\n",
    "index = 0\n",
    "for text in data_final[\"text\"]:\n",
    "    data_final[\"text\"][index] = titles[index] + \". \" + text\n",
    "    index+=1\n",
    "\n",
    "data_final = data_final.drop(columns=[\"title\"])\n",
    "\n",
    "print(\"Solo título: ---\", data[\"title\"][0], \"---\")\n",
    "print(\"Solo texto: --\", data[\"text\"][0], \"--\")\n",
    "print(\"\\nConcatenado título+texto: -\", data_final[\"text\"][0], \"-\")\n",
    "\n",
    "data_final"
   ]
  },
  {
   "cell_type": "markdown",
   "metadata": {},
   "source": [
    "## 1.2 Features"
   ]
  },
  {
   "cell_type": "code",
   "execution_count": 37,
   "metadata": {},
   "outputs": [],
   "source": [
    "def feature_tokenizer(text):\n",
    "    tokens = nlp(text)\n",
    "\n",
    "    #Guardamos las palabras como características si se considera sustantivo, adjetivo o verbo\n",
    "    tokens = [word for word in tokens if word.pos_ in [\"NOUN\", \"ADJ\", \"VERB\"]]\n",
    "    \n",
    "    #Palabras en minusculas\n",
    "    tokens = [word.lemma_.lower().strip() for word in tokens]\n",
    "\n",
    "    return tokens\n",
    "\n",
    "from sklearn.feature_extraction.text import TfidfVectorizer\n",
    "\n",
    "tfidf_vectorizer = TfidfVectorizer(tokenizer = feature_tokenizer, min_df=0., max_df=1.0)"
   ]
  },
  {
   "cell_type": "markdown",
   "metadata": {},
   "source": [
    "> Separamos la información de las etiquetas"
   ]
  },
  {
   "cell_type": "code",
   "execution_count": 38,
   "metadata": {},
   "outputs": [
    {
     "name": "stdout",
     "output_type": "stream",
     "text": [
      "0       Pdta. del Colegio de Matronas explicó los ries...\n",
      "1       Defensoría de la Niñez pide al Estado velar po...\n",
      "2       ¿Cuánto les pagarán a los vocales de mesa?. El...\n",
      "3       Sobrino de Alejandro Navarro intenta “funar” e...\n",
      "4       Análisis sobre el aumento de impuestos para al...\n",
      "                              ...                        \n",
      "6995    Android le dará “una paliza” a Windows en 2013...\n",
      "6996    Regalos tecnológicos marcaron pauta en Navidad...\n",
      "6997    Jugar con Fox en Starlink vale totalmente la p...\n",
      "6998    Konami lanza PES 2018 de forma gratuita para i...\n",
      "6999    Konami Digital Entertainment ha anunciado que ...\n",
      "Name: text, Length: 6999, dtype: object\n",
      "0              pais\n",
      "1              pais\n",
      "2              pais\n",
      "3              pais\n",
      "4              pais\n",
      "           ...     \n",
      "6995    tecnologias\n",
      "6996    tecnologias\n",
      "6997    tecnologias\n",
      "6998    tecnologias\n",
      "6999    tecnologias\n",
      "Name: category, Length: 6999, dtype: object\n"
     ]
    }
   ],
   "source": [
    "X = data_final[\"text\"]\n",
    "print(X)\n",
    "Y_label = data_final[\"category\"]\n",
    "print(Y_label)"
   ]
  },
  {
   "cell_type": "markdown",
   "metadata": {},
   "source": [
    "> Se codifican las etiquetas para que sean mas fáciles de manejar"
   ]
  },
  {
   "cell_type": "code",
   "execution_count": 39,
   "metadata": {},
   "outputs": [
    {
     "data": {
      "text/plain": [
       "array([4, 4, 4, ..., 5, 5, 5])"
      ]
     },
     "execution_count": 39,
     "metadata": {},
     "output_type": "execute_result"
    }
   ],
   "source": [
    "from sklearn.preprocessing import LabelEncoder\n",
    "\n",
    "le = LabelEncoder()\n",
    "\n",
    "encoded_Y_labels = le.fit_transform(Y_label)\n",
    "encoded_Y_labels"
   ]
  },
  {
   "cell_type": "markdown",
   "metadata": {},
   "source": [
    "> Guardamos los mapeos para poder saber de forma más sencilla que categoría corresponde cada etiqueta\n",
    ">\n",
    "> Y así poder facilitar la interpretación"
   ]
  },
  {
   "cell_type": "code",
   "execution_count": 40,
   "metadata": {},
   "outputs": [
    {
     "data": {
      "text/plain": [
       "{'cultura': 0,\n",
       " 'deportes': 1,\n",
       " 'economia': 2,\n",
       " 'mundo': 3,\n",
       " 'pais': 4,\n",
       " 'tecnologias': 5,\n",
       " 'tendencias': 6}"
      ]
     },
     "execution_count": 40,
     "metadata": {},
     "output_type": "execute_result"
    }
   ],
   "source": [
    "category_mapping = dict(zip(le.classes_, le.transform(le.classes_)))\n",
    "\n",
    "category_mapping"
   ]
  },
  {
   "cell_type": "code",
   "execution_count": 41,
   "metadata": {},
   "outputs": [
    {
     "data": {
      "text/plain": [
       "{0: 'cultura',\n",
       " 1: 'deportes',\n",
       " 2: 'economia',\n",
       " 3: 'mundo',\n",
       " 4: 'pais',\n",
       " 5: 'tecnologias',\n",
       " 6: 'tendencias'}"
      ]
     },
     "execution_count": 41,
     "metadata": {},
     "output_type": "execute_result"
    }
   ],
   "source": [
    "inv_category_mapping = {v: k for k, v in le_name_mapping.items()}\n",
    "\n",
    "inv_category_mapping"
   ]
  },
  {
   "cell_type": "markdown",
   "metadata": {},
   "source": [
    "> Se divide el dataset para que una parte sea usada para el entrenamiento, y otra para la evaluación"
   ]
  },
  {
   "cell_type": "code",
   "execution_count": 42,
   "metadata": {},
   "outputs": [],
   "source": [
    "from sklearn.model_selection import train_test_split\n",
    "\n",
    "X_train, X_test, y_train, y_test = train_test_split(X, encoded_Y_labels, test_size=0.25)"
   ]
  },
  {
   "cell_type": "code",
   "execution_count": 43,
   "metadata": {},
   "outputs": [
    {
     "data": {
      "text/plain": [
       "3420    ¿Están usando tu Wi Fi sin permiso?. “Who is o...\n",
       "492     El mensaje de los pilotos del SuperTanker para...\n",
       "1709    Papa Francisco terminó su gira por Latinoaméri...\n",
       "938     Ministerio Público presentó un recurso de nuli...\n",
       "3691    WhatsApp suma nuevas características para faci...\n",
       "                              ...                        \n",
       "1860    Trump no descartó firmar nueva orden ejecutiva...\n",
       "4889    Gremios agrícolas insisten en llamado a interv...\n",
       "6831    Lo más destacado de la semana en la red.  En e...\n",
       "5167    Las últimas canciones emitidas por Radio Magal...\n",
       "6674    Microsoft emite advertencia a usuarios de Wind...\n",
       "Name: text, Length: 5249, dtype: object"
      ]
     },
     "execution_count": 43,
     "metadata": {},
     "output_type": "execute_result"
    }
   ],
   "source": [
    "X_train"
   ]
  },
  {
   "cell_type": "code",
   "execution_count": 44,
   "metadata": {},
   "outputs": [
    {
     "data": {
      "text/plain": [
       "2943    Super Bowl: El mayor espectáculo deportivo de ...\n",
       "6952    ¿Un iPhone 11 Pro? Qué anuncios esperar del gr...\n",
       "5571    Comenzó la versión 38° de FILSA: Habrá 117 exp...\n",
       "3317    Tiempo & Espacio: El rescate de lo patrimonial...\n",
       "2800    Sterling y Rose fueron víctima de insultos rac...\n",
       "                              ...                        \n",
       "4637    El escenario económico tras el IPC de mayo. A ...\n",
       "862     Viaje al Centro de la Noticia: El cartel del “...\n",
       "2698    Martín Lasarte continuará al frente de Univers...\n",
       "6444    Curiosity transmite canción “Reach for the Sta...\n",
       "6531    Samsung presentará en marzo el nuevo Galaxy S4...\n",
       "Name: text, Length: 1750, dtype: object"
      ]
     },
     "execution_count": 44,
     "metadata": {},
     "output_type": "execute_result"
    }
   ],
   "source": [
    "X_test"
   ]
  },
  {
   "cell_type": "code",
   "execution_count": 45,
   "metadata": {},
   "outputs": [
    {
     "data": {
      "text/plain": [
       "array([6, 4, 3, ..., 5, 0, 5])"
      ]
     },
     "execution_count": 45,
     "metadata": {},
     "output_type": "execute_result"
    }
   ],
   "source": [
    "y_train"
   ]
  },
  {
   "cell_type": "code",
   "execution_count": 46,
   "metadata": {},
   "outputs": [
    {
     "data": {
      "text/plain": [
       "array([1, 5, 0, ..., 1, 5, 5])"
      ]
     },
     "execution_count": 46,
     "metadata": {},
     "output_type": "execute_result"
    }
   ],
   "source": [
    "y_test"
   ]
  },
  {
   "cell_type": "markdown",
   "metadata": {},
   "source": [
    "## 2.1 Regresión Logística"
   ]
  },
  {
   "cell_type": "markdown",
   "metadata": {},
   "source": [
    "> La primera estrategia a utilizar será un modelo básico de regresión logística"
   ]
  },
  {
   "cell_type": "code",
   "execution_count": 47,
   "metadata": {},
   "outputs": [
    {
     "data": {
      "text/plain": [
       "Pipeline(steps=[('vectorizing',\n",
       "                 TfidfVectorizer(min_df=0.0,\n",
       "                                 tokenizer=<function feature_tokenizer at 0x000001B637223430>)),\n",
       "                ('learning', LogisticRegression())])"
      ]
     },
     "execution_count": 47,
     "metadata": {},
     "output_type": "execute_result"
    }
   ],
   "source": [
    "from sklearn.pipeline import Pipeline\n",
    "\n",
    "from sklearn.linear_model import LogisticRegression\n",
    "\n",
    "logistic_regression_model = LogisticRegression()\n",
    "\n",
    "pipe_logistic = Pipeline([('vectorizing', tfidf_vectorizer),\n",
    "                 ('learning', logistic_regression_model)])\n",
    "\n",
    "pipe_logistic.fit(X_train,y_train)"
   ]
  },
  {
   "cell_type": "code",
   "execution_count": 50,
   "metadata": {},
   "outputs": [
    {
     "name": "stdout",
     "output_type": "stream",
     "text": [
      "[6 5 4 ... 1 2 5]\n",
      "[[0.13141284 0.18813697 0.03670181 ... 0.03635557 0.14021478 0.35073736]\n",
      " [0.0088367  0.00190385 0.01012345 ... 0.0017441  0.96411401 0.00627619]\n",
      " [0.14390977 0.07029909 0.11332424 ... 0.30130742 0.11283497 0.14830584]\n",
      " ...\n",
      " [0.04690205 0.6439569  0.04539977 ... 0.10179363 0.02447182 0.06529209]\n",
      " [0.03862948 0.16951203 0.2363138  ... 0.18848024 0.20524504 0.02769324]\n",
      " [0.07345796 0.05384971 0.05663509 ... 0.09223077 0.44886443 0.132705  ]]\n"
     ]
    }
   ],
   "source": [
    "predicted_logistic = pipe_logistic.predict(X_test)\n",
    "\n",
    "print(predicted_logistic)\n",
    "\n",
    "predicted_logistic_proba = pipe_logistic.predict_proba(X_test)\n",
    "\n",
    "print(predicted_logistic_proba)"
   ]
  },
  {
   "cell_type": "markdown",
   "metadata": {},
   "source": [
    "> El modelo resulta tener una precisión bastante buena considerando su simplicidad, al lograr un 78.68% de precisión"
   ]
  },
  {
   "cell_type": "code",
   "execution_count": 51,
   "metadata": {},
   "outputs": [
    {
     "name": "stdout",
     "output_type": "stream",
     "text": [
      "Logistic Regression Accuracy: 0.7868571428571428\n"
     ]
    }
   ],
   "source": [
    "# Model Accuracy\n",
    "print(\"Logistic Regression Accuracy:\",metrics.accuracy_score(y_test, predicted_logistic))"
   ]
  },
  {
   "cell_type": "code",
   "execution_count": 52,
   "metadata": {},
   "outputs": [
    {
     "name": "stdout",
     "output_type": "stream",
     "text": [
      "              precision    recall  f1-score   support\n",
      "\n",
      "           0       0.88      0.88      0.88       250\n",
      "           1       0.90      0.88      0.89       256\n",
      "           2       0.78      0.82      0.80       248\n",
      "           3       0.78      0.75      0.77       253\n",
      "           4       0.71      0.74      0.73       234\n",
      "           5       0.80      0.73      0.76       255\n",
      "           6       0.66      0.69      0.67       254\n",
      "\n",
      "    accuracy                           0.79      1750\n",
      "   macro avg       0.79      0.79      0.79      1750\n",
      "weighted avg       0.79      0.79      0.79      1750\n",
      "\n"
     ]
    }
   ],
   "source": [
    "from sklearn.metrics import confusion_matrix\n",
    "\n",
    "from sklearn.metrics import classification_report\n",
    "\n",
    "print(classification_report(y_test, predicted_logistic))"
   ]
  },
  {
   "cell_type": "code",
   "execution_count": 53,
   "metadata": {},
   "outputs": [
    {
     "data": {
      "text/plain": [
       "(array([0.5, 1.5, 2.5, 3.5, 4.5, 5.5, 6.5]),\n",
       " <a list of 7 Text major ticklabel objects>)"
      ]
     },
     "execution_count": 53,
     "metadata": {},
     "output_type": "execute_result"
    },
    {
     "data": {
      "image/png": "[encoded data removed]",
      "text/plain": [
       "<Figure size 432x288 with 1 Axes>"
      ]
     },
     "metadata": {
      "needs_background": "light"
     },
     "output_type": "display_data"
    }
   ],
   "source": [
    "classes = np.unique(y_test)\n",
    "\n",
    "cm = metrics.confusion_matrix(y_test, predicted_logistic)\n",
    "fig, ax = plt.subplots()\n",
    "sb.heatmap(cm, annot=True, fmt='d', ax=ax, cmap=plt.cm.Blues, \n",
    "            cbar=False)\n",
    "ax.set(xlabel=\"Pred\", ylabel=\"True\", xticklabels=classes, \n",
    "       yticklabels=classes, title=\"Confusion matrix\")\n",
    "plt.yticks(rotation=0)"
   ]
  },
  {
   "cell_type": "code",
   "execution_count": 56,
   "metadata": {},
   "outputs": [
    {
     "data": {
      "text/plain": [
       "{0: 'cultura',\n",
       " 1: 'deportes',\n",
       " 2: 'economia',\n",
       " 3: 'mundo',\n",
       " 4: 'pais',\n",
       " 5: 'tecnologias',\n",
       " 6: 'tendencias'}"
      ]
     },
     "execution_count": 56,
     "metadata": {},
     "output_type": "execute_result"
    }
   ],
   "source": [
    "inv_category_mapping"
   ]
  },
  {
   "cell_type": "markdown",
   "metadata": {},
   "source": [
    "> Este modelo es capaz de identificar excepcionalmente bien las noticias de categoría \"__cultura__\" y \"__deportes__\", consiguiendo una precisión de __88%__ y __90%__ respectivamente.\n",
    ">\n",
    "> Pero en categorías como \"__tendencias__\" y \"__pais__\" su rendimiento es considerablemente peor que para otras categorías, obteniendo __66%__ y __71%__ respectivamente."
   ]
  },
  {
   "cell_type": "markdown",
   "metadata": {},
   "source": [
    "## 2.2 Naïve Bayes"
   ]
  },
  {
   "cell_type": "code",
   "execution_count": 57,
   "metadata": {},
   "outputs": [],
   "source": [
    "from sklearn.naive_bayes import MultinomialNB\n",
    "\n",
    "nb = MultinomialNB()\n",
    "\n",
    "model_nb = Pipeline([('vectorizing', tfidf_vectorizer),\n",
    "                 ('learning', nb)])"
   ]
  },
  {
   "cell_type": "code",
   "execution_count": 58,
   "metadata": {},
   "outputs": [
    {
     "data": {
      "text/plain": [
       "Pipeline(steps=[('vectorizing',\n",
       "                 TfidfVectorizer(min_df=0.0,\n",
       "                                 tokenizer=<function feature_tokenizer at 0x000001B637223430>)),\n",
       "                ('learning', MultinomialNB())])"
      ]
     },
     "execution_count": 58,
     "metadata": {},
     "output_type": "execute_result"
    }
   ],
   "source": [
    "model_nb.fit(X_train, y_train)"
   ]
  },
  {
   "cell_type": "code",
   "execution_count": 59,
   "metadata": {},
   "outputs": [],
   "source": [
    "predicted_nb = model_nb.predict(X_test)"
   ]
  },
  {
   "cell_type": "code",
   "execution_count": 60,
   "metadata": {},
   "outputs": [
    {
     "name": "stdout",
     "output_type": "stream",
     "text": [
      "Logistic Regression Accuracy: 0.776\n"
     ]
    }
   ],
   "source": [
    "# Model Accuracy\n",
    "print(\"Logistic Regression Accuracy:\",metrics.accuracy_score(y_test, predicted_nb))"
   ]
  },
  {
   "cell_type": "code",
   "execution_count": 73,
   "metadata": {},
   "outputs": [
    {
     "name": "stdout",
     "output_type": "stream",
     "text": [
      "              precision    recall  f1-score   support\n",
      "\n",
      "           0       0.70      0.93      0.80       250\n",
      "           1       0.91      0.90      0.90       256\n",
      "           2       0.76      0.92      0.83       248\n",
      "           3       0.83      0.73      0.77       253\n",
      "           4       0.75      0.73      0.74       234\n",
      "           5       0.70      0.79      0.74       255\n",
      "           6       0.88      0.44      0.59       254\n",
      "\n",
      "    accuracy                           0.78      1750\n",
      "   macro avg       0.79      0.78      0.77      1750\n",
      "weighted avg       0.79      0.78      0.77      1750\n",
      "\n"
     ]
    }
   ],
   "source": [
    "print(classification_report(y_test, predicted_nb))"
   ]
  },
  {
   "cell_type": "code",
   "execution_count": 72,
   "metadata": {},
   "outputs": [
    {
     "data": {
      "text/plain": [
       "(array([0.5, 1.5, 2.5, 3.5, 4.5, 5.5, 6.5]),\n",
       " <a list of 7 Text major ticklabel objects>)"
      ]
     },
     "execution_count": 72,
     "metadata": {},
     "output_type": "execute_result"
    },
    {
     "data": {
      "image/png": "[encoded data removed]",
      "text/plain": [
       "<Figure size 432x288 with 1 Axes>"
      ]
     },
     "metadata": {
      "needs_background": "light"
     },
     "output_type": "display_data"
    }
   ],
   "source": [
    "classes = np.unique(y_test)\n",
    "\n",
    "cm = metrics.confusion_matrix(y_test, predicted_nb)\n",
    "fig, ax = plt.subplots()\n",
    "sb.heatmap(cm, annot=True, fmt='d', ax=ax, cmap=plt.cm.Blues, \n",
    "            cbar=False)\n",
    "ax.set(xlabel=\"Pred\", ylabel=\"True\", xticklabels=classes, \n",
    "       yticklabels=classes, title=\"Confusion matrix\")\n",
    "plt.yticks(rotation=0)"
   ]
  },
  {
   "cell_type": "code",
   "execution_count": 132,
   "metadata": {},
   "outputs": [
    {
     "data": {
      "text/plain": [
       "{0: 'cultura',\n",
       " 1: 'deportes',\n",
       " 2: 'economia',\n",
       " 3: 'mundo',\n",
       " 4: 'pais',\n",
       " 5: 'tecnologias',\n",
       " 6: 'tendencias'}"
      ]
     },
     "execution_count": 132,
     "metadata": {},
     "output_type": "execute_result"
    }
   ],
   "source": [
    "inv_category_mapping"
   ]
  },
  {
   "cell_type": "markdown",
   "metadata": {},
   "source": [
    "> Este modelo basado en el teorema de Bayes es capaz de identificar excepcionalmente bien las noticias de categoría \"__deportes__\", consiguiendo una __precisión__, __recall__ y __f1__ del 91%, 90% y 90% respectivamente.\n",
    "\n",
    "> En general este modelo parece ser el más estable, teniendo rendimientos aceptables en la mayor parte de las categorías, aunque cabe considerar que para la categoría \"tendencias\" este a pesar de tener una buena precisión (__88%__), su recall es bastante deficiente (__44%__), por lo que significa que está clasificando muchas noticias que deben ser tendencias como otra categoría equivocada."
   ]
  },
  {
   "cell_type": "code",
   "execution_count": 145,
   "metadata": {
    "scrolled": true
   },
   "outputs": [
    {
     "name": "stdout",
     "output_type": "stream",
     "text": [
      "\n",
      "Top 10 palabras de Cultura:  [('ser', -6.6411634789620715), ('película', -6.930328715713869), ('año', -6.9535731696643595), ('canción', -7.003992786296117), ('músico', -7.010715126480778), ('artista', -7.02946959845157), ('tener', -7.097752919469575), ('nuevo', -7.176441995774134), ('decir', -7.236549515752774), ('seriar', -7.2368707674311805)]\n",
      "\n",
      "Top 10 palabras de Deporte:  [('chileno', -6.882007682684778), ('jugador', -6.912605525989115), ('partir', -6.950869878080072), ('equipar', -7.0192797452715645), ('gol', -7.034098381472891), ('fútbol', -7.113956125076385), ('selección', -7.12199233522264), ('jugar', -7.151525364349315), ('colo', -7.167311616178111), ('ser', -7.232989807073633)]\n",
      "\n",
      "Top 10 palabras de Economía:  [('económico', -6.9462829507132975), ('empresa', -6.988837619256565), ('economía', -7.128512966356229), ('tener', -7.129108668179045), ('mercar', -7.134291297204271), ('ser', -7.145689118670317), ('alzar', -7.152734116167527), ('año', -7.183839390557802), ('país', -7.230396408741708), ('reformar', -7.302316634973767)]\n",
      "\n",
      "Top 10 palabras de Mundo:  [('país', -6.961760300050706), ('presidente', -6.975019142619284), ('ser', -6.998842970062683), ('haber', -7.005053027950464), ('=', -7.05845429198609), ('decir', -7.096961091170477), (\"'\", -7.143766516517257), ('estar', -7.27099095395724), ('año', -7.445204329304083), ('personar', -7.479407479070837)]\n",
      "\n",
      "Top 10 palabras de País:  [('ser', -7.060670804862861), ('presidente', -7.127270329662073), ('ministro', -7.168600611562836), ('tener', -7.329438484533945), ('estar', -7.378142587193176), ('diputar', -7.401642614793239), ('haber', -7.4329576154071715), ('político', -7.463085494075649), ('partir', -7.494592890528109), ('”', -7.501200966466152)]\n",
      "\n",
      "Top 10 palabras de Tecnologías:  [('nuevo', -6.820266580574847), ('aplicación', -6.836509320886515), ('usuario', -6.912848644589765), ('ser', -6.949646835386302), ('tecnología', -7.126093300149082), ('tener', -7.1308373963708105), ('dispositivo', -7.301896203229651), ('ver', -7.382426567617417), ('teléfono', -7.391414721829824), ('poder', -7.399933818261765)]\n",
      "\n",
      "Top 10 palabras de Tendencias:  [('video', -6.721596853962675), ('ser', -7.124457952371551), ('nuevo', -7.326978496922088), ('blocar', -7.3510789849636335), ('=', -7.360604463650512), ('año', -7.405928014493346), ('tener', -7.42693888757033), ('ver', -7.477946396336143), ('niño', -7.485295858552085), ('social', -7.502753391352035)]\n"
     ]
    }
   ],
   "source": [
    "def top_words(class_label):\n",
    "    zipped = list(zip(tfidf_vectorizer.get_feature_names(), nb.feature_log_prob_[category_mapping[class_label]]))\n",
    "    return sorted(zipped, key=lambda v: v[1], reverse=True)[:10]\n",
    "\n",
    "print(\"\\nTop 10 palabras de Cultura: \", top_words(\"cultura\"))\n",
    "print(\"\\nTop 10 palabras de Deporte: \", top_words(\"deportes\"))\n",
    "print(\"\\nTop 10 palabras de Economía: \", top_words(\"economia\"))\n",
    "print(\"\\nTop 10 palabras de Mundo: \", top_words(\"mundo\"))\n",
    "print(\"\\nTop 10 palabras de País: \", top_words(\"pais\"))\n",
    "print(\"\\nTop 10 palabras de Tecnologías: \", top_words(\"tecnologias\"))\n",
    "print(\"\\nTop 10 palabras de Tendencias: \", top_words(\"tendencias\"))"
   ]
  },
  {
   "cell_type": "markdown",
   "metadata": {},
   "source": [
    "## 2.3 Arbol de decisión"
   ]
  },
  {
   "cell_type": "code",
   "execution_count": 63,
   "metadata": {},
   "outputs": [],
   "source": [
    "from sklearn import tree\n",
    "\n",
    "decision_tree = tree.DecisionTreeClassifier()\n",
    "\n",
    "model_tree = Pipeline([('vectorizing', tfidf_vectorizer),\n",
    "                 ('learning', decision_tree)])"
   ]
  },
  {
   "cell_type": "code",
   "execution_count": 64,
   "metadata": {},
   "outputs": [
    {
     "data": {
      "text/plain": [
       "Pipeline(steps=[('vectorizing',\n",
       "                 TfidfVectorizer(min_df=0.0,\n",
       "                                 tokenizer=<function feature_tokenizer at 0x000001B637223430>)),\n",
       "                ('learning', DecisionTreeClassifier())])"
      ]
     },
     "execution_count": 64,
     "metadata": {},
     "output_type": "execute_result"
    }
   ],
   "source": [
    "model_tree.fit(X_train, y_train)"
   ]
  },
  {
   "cell_type": "code",
   "execution_count": 65,
   "metadata": {},
   "outputs": [],
   "source": [
    "predicted_tree = model_tree.predict(X_test)"
   ]
  },
  {
   "cell_type": "code",
   "execution_count": 66,
   "metadata": {},
   "outputs": [
    {
     "name": "stdout",
     "output_type": "stream",
     "text": [
      "Logistic Regression Accuracy: 0.5491428571428572\n"
     ]
    }
   ],
   "source": [
    "# Model Accuracy\n",
    "print(\"Logistic Regression Accuracy:\",metrics.accuracy_score(y_test, predicted_tree))"
   ]
  },
  {
   "cell_type": "code",
   "execution_count": 67,
   "metadata": {},
   "outputs": [
    {
     "name": "stdout",
     "output_type": "stream",
     "text": [
      "              precision    recall  f1-score   support\n",
      "\n",
      "           0       0.73      0.70      0.71       250\n",
      "           1       0.69      0.71      0.70       256\n",
      "           2       0.59      0.58      0.58       248\n",
      "           3       0.47      0.46      0.47       253\n",
      "           4       0.41      0.42      0.42       234\n",
      "           5       0.50      0.47      0.49       255\n",
      "           6       0.46      0.50      0.48       254\n",
      "\n",
      "    accuracy                           0.55      1750\n",
      "   macro avg       0.55      0.55      0.55      1750\n",
      "weighted avg       0.55      0.55      0.55      1750\n",
      "\n"
     ]
    }
   ],
   "source": [
    "print(classification_report(y_test, predicted_tree))"
   ]
  },
  {
   "cell_type": "code",
   "execution_count": 68,
   "metadata": {},
   "outputs": [
    {
     "data": {
      "text/plain": [
       "(array([0.5, 1.5, 2.5, 3.5, 4.5, 5.5, 6.5]),\n",
       " <a list of 7 Text major ticklabel objects>)"
      ]
     },
     "execution_count": 68,
     "metadata": {},
     "output_type": "execute_result"
    },
    {
     "data": {
      "image/png": "[encoded data removed]",
      "text/plain": [
       "<Figure size 432x288 with 1 Axes>"
      ]
     },
     "metadata": {
      "needs_background": "light"
     },
     "output_type": "display_data"
    }
   ],
   "source": [
    "classes = np.unique(y_test)\n",
    "\n",
    "cm = metrics.confusion_matrix(y_test, predicted_tree)\n",
    "fig, ax = plt.subplots()\n",
    "sb.heatmap(cm, annot=True, fmt='d', ax=ax, cmap=plt.cm.Blues, \n",
    "            cbar=False)\n",
    "ax.set(xlabel=\"Pred\", ylabel=\"True\", xticklabels=classes, \n",
    "       yticklabels=classes, title=\"Confusion matrix\")\n",
    "plt.yticks(rotation=0)"
   ]
  },
  {
   "cell_type": "code",
   "execution_count": 74,
   "metadata": {},
   "outputs": [
    {
     "data": {
      "text/plain": [
       "{0: 'cultura',\n",
       " 1: 'deportes',\n",
       " 2: 'economia',\n",
       " 3: 'mundo',\n",
       " 4: 'pais',\n",
       " 5: 'tecnologias',\n",
       " 6: 'tendencias'}"
      ]
     },
     "execution_count": 74,
     "metadata": {},
     "output_type": "execute_result"
    }
   ],
   "source": [
    "inv_category_mapping"
   ]
  },
  {
   "cell_type": "code",
   "execution_count": 70,
   "metadata": {},
   "outputs": [
    {
     "name": "stdout",
     "output_type": "stream",
     "text": [
      "|--- artista <= 0.02\n",
      "|   |--- jugador <= 0.04\n",
      "|   |   |--- económico <= 0.05\n",
      "|   |   |   |--- tecnología <= 0.03\n",
      "|   |   |   |   |--- película <= 0.03\n",
      "|   |   |   |   |   |--- gol <= 0.03\n",
      "|   |   |   |   |   |   |--- presidente <= 0.02\n",
      "|   |   |   |   |   |   |   |--- video <= 0.06\n",
      "|   |   |   |   |   |   |   |   |--- usuario <= 0.04\n",
      "|   |   |   |   |   |   |   |   |   |--- alzar <= 0.05\n",
      "|   |   |   |   |   |   |   |   |   |   |--- canción <= 0.01\n",
      "|   |   |   |   |   |   |   |   |   |   |   |--- truncated branch of depth 122\n",
      "|   |   |   |   |   |   |   |   |   |   |--- canción >  0.01\n",
      "|   |   |   |   |   |   |   |   |   |   |   |--- truncated branch of depth 9\n",
      "|   |   |   |   |   |   |   |   |   |--- alzar >  0.05\n",
      "|   |   |   |   |   |   |   |   |   |   |--- violencia <= 0.03\n",
      "|   |   |   |   |   |   |   |   |   |   |   |--- truncated branch of depth 8\n",
      "|   |   |   |   |   |   |   |   |   |   |--- violencia >  0.03\n",
      "|   |   |   |   |   |   |   |   |   |   |   |--- class: 4\n",
      "|   |   |   |   |   |   |   |   |--- usuario >  0.04\n",
      "|   |   |   |   |   |   |   |   |   |--- blocar <= 0.07\n",
      "|   |   |   |   |   |   |   |   |   |   |--- consultar <= 0.02\n",
      "|   |   |   |   |   |   |   |   |   |   |   |--- truncated branch of depth 19\n",
      "|   |   |   |   |   |   |   |   |   |   |--- consultar >  0.02\n",
      "|   |   |   |   |   |   |   |   |   |   |   |--- truncated branch of depth 3\n",
      "|   |   |   |   |   |   |   |   |   |--- blocar >  0.07\n",
      "|   |   |   |   |   |   |   |   |   |   |--- comenzar <= 0.07\n",
      "|   |   |   |   |   |   |   |   |   |   |   |--- truncated branch of depth 2\n",
      "|   |   |   |   |   |   |   |   |   |   |--- comenzar >  0.07\n",
      "|   |   |   |   |   |   |   |   |   |   |   |--- class: 5\n",
      "|   |   |   |   |   |   |   |--- video >  0.06\n",
      "|   |   |   |   |   |   |   |   |--- adjuntar <= 0.07\n",
      "|   |   |   |   |   |   |   |   |   |--- estrenar <= 0.03\n",
      "|   |   |   |   |   |   |   |   |   |   |--- público <= 0.03\n",
      "|   |   |   |   |   |   |   |   |   |   |   |--- truncated branch of depth 27\n",
      "|   |   |   |   |   |   |   |   |   |   |--- público >  0.03\n",
      "|   |   |   |   |   |   |   |   |   |   |   |--- truncated branch of depth 4\n",
      "|   |   |   |   |   |   |   |   |   |--- estrenar >  0.03\n",
      "|   |   |   |   |   |   |   |   |   |   |--- iniciativo <= 0.07\n",
      "|   |   |   |   |   |   |   |   |   |   |   |--- class: 0\n",
      "|   |   |   |   |   |   |   |   |   |   |--- iniciativo >  0.07\n",
      "|   |   |   |   |   |   |   |   |   |   |   |--- class: 6\n",
      "|   |   |   |   |   |   |   |   |--- adjuntar >  0.07\n",
      "|   |   |   |   |   |   |   |   |   |--- hípico <= 0.07\n",
      "|   |   |   |   |   |   |   |   |   |   |--- video <= 0.15\n",
      "|   |   |   |   |   |   |   |   |   |   |   |--- truncated branch of depth 23\n",
      "|   |   |   |   |   |   |   |   |   |   |--- video >  0.15\n",
      "|   |   |   |   |   |   |   |   |   |   |   |--- truncated branch of depth 3\n",
      "|   |   |   |   |   |   |   |   |   |--- hípico >  0.07\n",
      "|   |   |   |   |   |   |   |   |   |   |--- class: 1\n",
      "|   |   |   |   |   |   |--- presidente >  0.02\n",
      "|   |   |   |   |   |   |   |--- trump <= 0.02\n",
      "|   |   |   |   |   |   |   |   |--- = <= 0.11\n",
      "|   |   |   |   |   |   |   |   |   |--- diputar <= 0.05\n",
      "|   |   |   |   |   |   |   |   |   |   |--- fútbol <= 0.08\n",
      "|   |   |   |   |   |   |   |   |   |   |   |--- truncated branch of depth 31\n",
      "|   |   |   |   |   |   |   |   |   |   |--- fútbol >  0.08\n",
      "|   |   |   |   |   |   |   |   |   |   |   |--- truncated branch of depth 2\n",
      "|   |   |   |   |   |   |   |   |   |--- diputar >  0.05\n",
      "|   |   |   |   |   |   |   |   |   |   |--- tributario <= 0.18\n",
      "|   |   |   |   |   |   |   |   |   |   |   |--- truncated branch of depth 4\n",
      "|   |   |   |   |   |   |   |   |   |   |--- tributario >  0.18\n",
      "|   |   |   |   |   |   |   |   |   |   |   |--- class: 2\n",
      "|   |   |   |   |   |   |   |   |--- = >  0.11\n",
      "|   |   |   |   |   |   |   |   |   |--- video <= 0.03\n",
      "|   |   |   |   |   |   |   |   |   |   |--- dirigente <= 0.05\n",
      "|   |   |   |   |   |   |   |   |   |   |   |--- truncated branch of depth 4\n",
      "|   |   |   |   |   |   |   |   |   |   |--- dirigente >  0.05\n",
      "|   |   |   |   |   |   |   |   |   |   |   |--- class: 1\n",
      "|   |   |   |   |   |   |   |   |   |--- video >  0.03\n",
      "|   |   |   |   |   |   |   |   |   |   |--- var <= 0.08\n",
      "|   |   |   |   |   |   |   |   |   |   |   |--- class: 4\n",
      "|   |   |   |   |   |   |   |   |   |   |--- var >  0.08\n",
      "|   |   |   |   |   |   |   |   |   |   |   |--- truncated branch of depth 2\n",
      "|   |   |   |   |   |   |   |--- trump >  0.02\n",
      "|   |   |   |   |   |   |   |   |--- redar <= 0.01\n",
      "|   |   |   |   |   |   |   |   |   |--- público <= 0.08\n",
      "|   |   |   |   |   |   |   |   |   |   |--- cuerpo <= 0.03\n",
      "|   |   |   |   |   |   |   |   |   |   |   |--- truncated branch of depth 2\n",
      "|   |   |   |   |   |   |   |   |   |   |--- cuerpo >  0.03\n",
      "|   |   |   |   |   |   |   |   |   |   |   |--- class: 6\n",
      "|   |   |   |   |   |   |   |   |   |--- público >  0.08\n",
      "|   |   |   |   |   |   |   |   |   |   |--- codazo <= 0.11\n",
      "|   |   |   |   |   |   |   |   |   |   |   |--- class: 4\n",
      "|   |   |   |   |   |   |   |   |   |   |--- codazo >  0.11\n",
      "|   |   |   |   |   |   |   |   |   |   |   |--- class: 1\n",
      "|   |   |   |   |   |   |   |   |--- redar >  0.01\n",
      "|   |   |   |   |   |   |   |   |   |--- elección <= 0.01\n",
      "|   |   |   |   |   |   |   |   |   |   |--- class: 6\n",
      "|   |   |   |   |   |   |   |   |   |--- elección >  0.01\n",
      "|   |   |   |   |   |   |   |   |   |   |--- protección <= 0.01\n",
      "|   |   |   |   |   |   |   |   |   |   |   |--- class: 0\n",
      "|   |   |   |   |   |   |   |   |   |   |--- protección >  0.01\n",
      "|   |   |   |   |   |   |   |   |   |   |   |--- class: 5\n",
      "|   |   |   |   |   |--- gol >  0.03\n",
      "|   |   |   |   |   |   |--- blocar <= 0.06\n",
      "|   |   |   |   |   |   |   |--- paraguayo <= 0.19\n",
      "|   |   |   |   |   |   |   |   |--- bromar <= 0.11\n",
      "|   |   |   |   |   |   |   |   |   |--- class: 1\n",
      "|   |   |   |   |   |   |   |   |--- bromar >  0.11\n",
      "|   |   |   |   |   |   |   |   |   |--- class: 6\n",
      "|   |   |   |   |   |   |   |--- paraguayo >  0.19\n",
      "|   |   |   |   |   |   |   |   |--- class: 6\n",
      "|   |   |   |   |   |   |--- blocar >  0.06\n",
      "|   |   |   |   |   |   |   |--- concepto <= 0.07\n",
      "|   |   |   |   |   |   |   |   |--- class: 6\n",
      "|   |   |   |   |   |   |   |--- concepto >  0.07\n",
      "|   |   |   |   |   |   |   |   |--- class: 5\n",
      "|   |   |   |   |--- película >  0.03\n",
      "|   |   |   |   |   |--- video <= 0.05\n",
      "|   |   |   |   |   |   |--- serie <= 0.15\n",
      "|   |   |   |   |   |   |   |--- star <= 0.13\n",
      "|   |   |   |   |   |   |   |   |--- aprobar <= 0.02\n",
      "|   |   |   |   |   |   |   |   |   |--- tecnológico <= 0.06\n",
      "|   |   |   |   |   |   |   |   |   |   |--- organización <= 0.06\n",
      "|   |   |   |   |   |   |   |   |   |   |   |--- truncated branch of depth 9\n",
      "|   |   |   |   |   |   |   |   |   |   |--- organización >  0.06\n",
      "|   |   |   |   |   |   |   |   |   |   |   |--- class: 5\n",
      "|   |   |   |   |   |   |   |   |   |--- tecnológico >  0.06\n",
      "|   |   |   |   |   |   |   |   |   |   |--- class: 5\n",
      "|   |   |   |   |   |   |   |   |--- aprobar >  0.02\n",
      "|   |   |   |   |   |   |   |   |   |--- campeón <= 0.03\n",
      "|   |   |   |   |   |   |   |   |   |   |--- class: 3\n",
      "|   |   |   |   |   |   |   |   |   |--- campeón >  0.03\n",
      "|   |   |   |   |   |   |   |   |   |   |--- class: 6\n",
      "|   |   |   |   |   |   |   |--- star >  0.13\n",
      "|   |   |   |   |   |   |   |   |--- estrenar <= 0.04\n",
      "|   |   |   |   |   |   |   |   |   |--- class: 6\n",
      "|   |   |   |   |   |   |   |   |--- estrenar >  0.04\n",
      "|   |   |   |   |   |   |   |   |   |--- seguir <= 0.05\n",
      "|   |   |   |   |   |   |   |   |   |   |--- class: 5\n",
      "|   |   |   |   |   |   |   |   |   |--- seguir >  0.05\n",
      "|   |   |   |   |   |   |   |   |   |   |--- class: 0\n",
      "|   |   |   |   |   |   |--- serie >  0.15\n",
      "|   |   |   |   |   |   |   |--- estar <= 0.05\n",
      "|   |   |   |   |   |   |   |   |--- hambre <= 0.05\n",
      "|   |   |   |   |   |   |   |   |   |--- class: 6\n",
      "|   |   |   |   |   |   |   |   |--- hambre >  0.05\n",
      "|   |   |   |   |   |   |   |   |   |--- class: 0\n",
      "|   |   |   |   |   |   |   |--- estar >  0.05\n",
      "|   |   |   |   |   |   |   |   |--- class: 5\n",
      "|   |   |   |   |   |--- video >  0.05\n",
      "|   |   |   |   |   |   |--- video <= 0.07\n",
      "|   |   |   |   |   |   |   |--- desear <= 0.05\n",
      "|   |   |   |   |   |   |   |   |--- arácnido <= 0.08\n",
      "|   |   |   |   |   |   |   |   |   |--- class: 5\n",
      "|   |   |   |   |   |   |   |   |--- arácnido >  0.08\n",
      "|   |   |   |   |   |   |   |   |   |--- class: 0\n",
      "|   |   |   |   |   |   |   |--- desear >  0.05\n",
      "|   |   |   |   |   |   |   |   |--- class: 6\n",
      "|   |   |   |   |   |   |--- video >  0.07\n",
      "|   |   |   |   |   |   |   |--- corresponder <= 0.04\n",
      "|   |   |   |   |   |   |   |   |--- class: 6\n",
      "|   |   |   |   |   |   |   |--- corresponder >  0.04\n",
      "|   |   |   |   |   |   |   |   |--- class: 0\n",
      "|   |   |   |--- tecnología >  0.03\n",
      "|   |   |   |   |--- presidente <= 0.05\n",
      "|   |   |   |   |   |--- década <= 0.01\n",
      "|   |   |   |   |   |   |--- peso <= 0.06\n",
      "|   |   |   |   |   |   |   |--- país <= 0.08\n",
      "|   |   |   |   |   |   |   |   |--- menor <= 0.06\n",
      "|   |   |   |   |   |   |   |   |   |--- decidir <= 0.11\n",
      "|   |   |   |   |   |   |   |   |   |   |--- comerciar <= 0.07\n",
      "|   |   |   |   |   |   |   |   |   |   |   |--- truncated branch of depth 12\n",
      "|   |   |   |   |   |   |   |   |   |   |--- comerciar >  0.07\n",
      "|   |   |   |   |   |   |   |   |   |   |   |--- truncated branch of depth 2\n",
      "|   |   |   |   |   |   |   |   |   |--- decidir >  0.11\n",
      "|   |   |   |   |   |   |   |   |   |   |--- ver <= 0.04\n",
      "|   |   |   |   |   |   |   |   |   |   |   |--- truncated branch of depth 2\n",
      "|   |   |   |   |   |   |   |   |   |   |--- ver >  0.04\n",
      "|   |   |   |   |   |   |   |   |   |   |   |--- class: 6\n",
      "|   |   |   |   |   |   |   |   |--- menor >  0.06\n",
      "|   |   |   |   |   |   |   |   |   |--- músico <= 0.05\n",
      "|   |   |   |   |   |   |   |   |   |   |--- presenciar <= 0.05\n",
      "|   |   |   |   |   |   |   |   |   |   |   |--- class: 6\n",
      "|   |   |   |   |   |   |   |   |   |   |--- presenciar >  0.05\n",
      "|   |   |   |   |   |   |   |   |   |   |   |--- class: 4\n",
      "|   |   |   |   |   |   |   |   |   |--- músico >  0.05\n",
      "|   |   |   |   |   |   |   |   |   |   |--- class: 5\n",
      "|   |   |   |   |   |   |   |--- país >  0.08\n",
      "|   |   |   |   |   |   |   |   |--- ser <= 0.01\n",
      "|   |   |   |   |   |   |   |   |   |--- realizar <= 0.07\n",
      "|   |   |   |   |   |   |   |   |   |   |--- class: 5\n",
      "|   |   |   |   |   |   |   |   |   |--- realizar >  0.07\n",
      "|   |   |   |   |   |   |   |   |   |   |--- encontrar <= 0.05\n",
      "|   |   |   |   |   |   |   |   |   |   |   |--- class: 4\n",
      "|   |   |   |   |   |   |   |   |   |   |--- encontrar >  0.05\n",
      "|   |   |   |   |   |   |   |   |   |   |   |--- class: 2\n",
      "|   |   |   |   |   |   |   |   |--- ser >  0.01\n",
      "|   |   |   |   |   |   |   |   |   |--- class: 2\n",
      "|   |   |   |   |   |   |--- peso >  0.06\n",
      "|   |   |   |   |   |   |   |--- class: 2\n",
      "|   |   |   |   |   |--- década >  0.01\n",
      "|   |   |   |   |   |   |--- trabajar <= 0.03\n",
      "|   |   |   |   |   |   |   |--- class: 6\n",
      "|   |   |   |   |   |   |--- trabajar >  0.03\n",
      "|   |   |   |   |   |   |   |--- atención <= 0.02\n",
      "|   |   |   |   |   |   |   |   |--- encontrar <= 0.03\n",
      "|   |   |   |   |   |   |   |   |   |--- class: 0\n",
      "|   |   |   |   |   |   |   |   |--- encontrar >  0.03\n",
      "|   |   |   |   |   |   |   |   |   |--- class: 4\n",
      "|   |   |   |   |   |   |   |--- atención >  0.02\n",
      "|   |   |   |   |   |   |   |   |--- class: 3\n",
      "|   |   |   |   |--- presidente >  0.05\n",
      "|   |   |   |   |   |--- tecnología <= 0.14\n",
      "|   |   |   |   |   |   |--- nuevo <= 0.01\n",
      "|   |   |   |   |   |   |   |--- pantalla <= 0.04\n",
      "|   |   |   |   |   |   |   |   |--- class: 2\n",
      "|   |   |   |   |   |   |   |--- pantalla >  0.04\n",
      "|   |   |   |   |   |   |   |   |--- class: 0\n",
      "|   |   |   |   |   |   |--- nuevo >  0.01\n",
      "|   |   |   |   |   |   |   |--- pasar <= 0.04\n",
      "|   |   |   |   |   |   |   |   |--- millón <= 0.03\n",
      "|   |   |   |   |   |   |   |   |   |--- class: 4\n",
      "|   |   |   |   |   |   |   |   |--- millón >  0.03\n",
      "|   |   |   |   |   |   |   |   |   |--- representante <= 0.03\n",
      "|   |   |   |   |   |   |   |   |   |   |--- class: 2\n",
      "|   |   |   |   |   |   |   |   |   |--- representante >  0.03\n",
      "|   |   |   |   |   |   |   |   |   |   |--- class: 3\n",
      "|   |   |   |   |   |   |   |--- pasar >  0.04\n",
      "|   |   |   |   |   |   |   |   |--- costo <= 0.05\n",
      "|   |   |   |   |   |   |   |   |   |--- real <= 0.03\n",
      "|   |   |   |   |   |   |   |   |   |   |--- class: 6\n",
      "|   |   |   |   |   |   |   |   |   |--- real >  0.03\n",
      "|   |   |   |   |   |   |   |   |   |   |--- class: 1\n",
      "|   |   |   |   |   |   |   |   |--- costo >  0.05\n",
      "|   |   |   |   |   |   |   |   |   |--- class: 0\n",
      "|   |   |   |   |   |--- tecnología >  0.14\n",
      "|   |   |   |   |   |   |--- rápido <= 0.04\n",
      "|   |   |   |   |   |   |   |--- class: 5\n",
      "|   |   |   |   |   |   |--- rápido >  0.04\n",
      "|   |   |   |   |   |   |   |--- class: 4\n",
      "|   |   |--- económico >  0.05\n",
      "|   |   |   |--- protestar <= 0.08\n",
      "|   |   |   |   |--- agenda <= 0.07\n",
      "|   |   |   |   |   |--- isla <= 0.04\n",
      "|   |   |   |   |   |   |--- detener <= 0.02\n",
      "|   |   |   |   |   |   |   |--- plantear <= 0.06\n",
      "|   |   |   |   |   |   |   |   |--- dispositivo <= 0.04\n",
      "|   |   |   |   |   |   |   |   |   |--- historia <= 0.02\n",
      "|   |   |   |   |   |   |   |   |   |   |--- pobreza <= 0.08\n",
      "|   |   |   |   |   |   |   |   |   |   |   |--- truncated branch of depth 21\n",
      "|   |   |   |   |   |   |   |   |   |   |--- pobreza >  0.08\n",
      "|   |   |   |   |   |   |   |   |   |   |   |--- class: 3\n",
      "|   |   |   |   |   |   |   |   |   |--- historia >  0.02\n",
      "|   |   |   |   |   |   |   |   |   |   |--- ” <= 0.04\n",
      "|   |   |   |   |   |   |   |   |   |   |   |--- class: 3\n",
      "|   |   |   |   |   |   |   |   |   |   |--- ” >  0.04\n",
      "|   |   |   |   |   |   |   |   |   |   |   |--- class: 4\n",
      "|   |   |   |   |   |   |   |   |--- dispositivo >  0.04\n",
      "|   |   |   |   |   |   |   |   |   |--- class: 5\n",
      "|   |   |   |   |   |   |   |--- plantear >  0.06\n",
      "|   |   |   |   |   |   |   |   |--- diferenciar <= 0.05\n",
      "|   |   |   |   |   |   |   |   |   |--- class: 4\n",
      "|   |   |   |   |   |   |   |   |--- diferenciar >  0.05\n",
      "|   |   |   |   |   |   |   |   |   |--- class: 3\n",
      "|   |   |   |   |   |   |--- detener >  0.02\n",
      "|   |   |   |   |   |   |   |--- costo <= 0.10\n",
      "|   |   |   |   |   |   |   |   |--- class: 3\n",
      "|   |   |   |   |   |   |   |--- costo >  0.10\n",
      "|   |   |   |   |   |   |   |   |--- class: 4\n",
      "|   |   |   |   |   |--- isla >  0.04\n",
      "|   |   |   |   |   |   |--- class: 3\n",
      "|   |   |   |   |--- agenda >  0.07\n",
      "|   |   |   |   |   |--- usuario <= 0.09\n",
      "|   |   |   |   |   |   |--- class: 2\n",
      "|   |   |   |   |   |--- usuario >  0.09\n",
      "|   |   |   |   |   |   |--- class: 5\n",
      "|   |   |   |--- protestar >  0.08\n",
      "|   |   |   |   |--- class: 3\n",
      "|   |--- jugador >  0.04\n",
      "|   |   |--- videojuego <= 0.01\n",
      "|   |   |   |--- versión <= 0.01\n",
      "|   |   |   |   |--- usuario <= 0.06\n",
      "|   |   |   |   |   |--- desarrollar <= 0.07\n",
      "|   |   |   |   |   |   |--- videos <= 0.12\n",
      "|   |   |   |   |   |   |   |--- mirar <= 0.03\n",
      "|   |   |   |   |   |   |   |   |--- plataforma <= 0.04\n",
      "|   |   |   |   |   |   |   |   |   |--- volar <= 0.06\n",
      "|   |   |   |   |   |   |   |   |   |   |--- blocar <= 0.05\n",
      "|   |   |   |   |   |   |   |   |   |   |   |--- truncated branch of depth 10\n",
      "|   |   |   |   |   |   |   |   |   |   |--- blocar >  0.05\n",
      "|   |   |   |   |   |   |   |   |   |   |   |--- class: 5\n",
      "|   |   |   |   |   |   |   |   |   |--- volar >  0.06\n",
      "|   |   |   |   |   |   |   |   |   |   |--- class: 3\n",
      "|   |   |   |   |   |   |   |   |--- plataforma >  0.04\n",
      "|   |   |   |   |   |   |   |   |   |--- profesional <= 0.07\n",
      "|   |   |   |   |   |   |   |   |   |   |--- class: 5\n",
      "|   |   |   |   |   |   |   |   |   |--- profesional >  0.07\n",
      "|   |   |   |   |   |   |   |   |   |   |--- class: 2\n",
      "|   |   |   |   |   |   |   |--- mirar >  0.03\n",
      "|   |   |   |   |   |   |   |   |--- ” <= 0.02\n",
      "|   |   |   |   |   |   |   |   |   |--- nuevo <= 0.04\n",
      "|   |   |   |   |   |   |   |   |   |   |--- class: 1\n",
      "|   |   |   |   |   |   |   |   |   |--- nuevo >  0.04\n",
      "|   |   |   |   |   |   |   |   |   |   |--- class: 6\n",
      "|   |   |   |   |   |   |   |   |--- ” >  0.02\n",
      "|   |   |   |   |   |   |   |   |   |--- class: 6\n",
      "|   |   |   |   |   |   |--- videos >  0.12\n",
      "|   |   |   |   |   |   |   |--- class: 6\n",
      "|   |   |   |   |   |--- desarrollar >  0.07\n",
      "|   |   |   |   |   |   |--- personar <= 0.04\n",
      "|   |   |   |   |   |   |   |--- presentación <= 0.06\n",
      "|   |   |   |   |   |   |   |   |--- class: 5\n",
      "|   |   |   |   |   |   |   |--- presentación >  0.06\n",
      "|   |   |   |   |   |   |   |   |--- class: 0\n",
      "|   |   |   |   |   |   |--- personar >  0.04\n",
      "|   |   |   |   |   |   |   |--- class: 3\n",
      "|   |   |   |   |--- usuario >  0.06\n",
      "|   |   |   |   |   |--- contar <= 0.05\n",
      "|   |   |   |   |   |   |--- publicitario <= 0.12\n",
      "|   |   |   |   |   |   |   |--- class: 5\n",
      "|   |   |   |   |   |   |--- publicitario >  0.12\n",
      "|   |   |   |   |   |   |   |--- class: 1\n",
      "|   |   |   |   |   |--- contar >  0.05\n",
      "|   |   |   |   |   |   |--- class: 6\n",
      "|   |   |   |--- versión >  0.01\n",
      "|   |   |   |   |--- casildense <= 0.07\n",
      "|   |   |   |   |   |--- class: 5\n",
      "|   |   |   |   |--- casildense >  0.07\n",
      "|   |   |   |   |   |--- class: 1\n",
      "|   |   |--- videojuego >  0.01\n",
      "|   |   |   |--- dejar <= 0.06\n",
      "|   |   |   |   |--- class: 5\n",
      "|   |   |   |--- dejar >  0.06\n",
      "|   |   |   |   |--- éxito <= 0.04\n",
      "|   |   |   |   |   |--- class: 0\n",
      "|   |   |   |   |--- éxito >  0.04\n",
      "|   |   |   |   |   |--- class: 4\n",
      "|--- artista >  0.02\n",
      "|   |--- presidente <= 0.11\n",
      "|   |   |--- admplayer <= 0.03\n",
      "|   |   |   |--- moda <= 0.08\n",
      "|   |   |   |   |--- creador <= 0.04\n",
      "|   |   |   |   |   |--- selección <= 0.02\n",
      "|   |   |   |   |   |   |--- usuario <= 0.07\n",
      "|   |   |   |   |   |   |   |--- experto <= 0.05\n",
      "|   |   |   |   |   |   |   |   |--- estatua <= 0.04\n",
      "|   |   |   |   |   |   |   |   |   |--- nación <= 0.08\n",
      "|   |   |   |   |   |   |   |   |   |   |--- presentador <= 0.09\n",
      "|   |   |   |   |   |   |   |   |   |   |   |--- truncated branch of depth 8\n",
      "|   |   |   |   |   |   |   |   |   |   |--- presentador >  0.09\n",
      "|   |   |   |   |   |   |   |   |   |   |   |--- class: 6\n",
      "|   |   |   |   |   |   |   |   |   |--- nación >  0.08\n",
      "|   |   |   |   |   |   |   |   |   |   |--- class: 3\n",
      "|   |   |   |   |   |   |   |   |--- estatua >  0.04\n",
      "|   |   |   |   |   |   |   |   |   |--- class: 3\n",
      "|   |   |   |   |   |   |   |--- experto >  0.05\n",
      "|   |   |   |   |   |   |   |   |--- class: 2\n",
      "|   |   |   |   |   |   |--- usuario >  0.07\n",
      "|   |   |   |   |   |   |   |--- muerte <= 0.05\n",
      "|   |   |   |   |   |   |   |   |--- class: 6\n",
      "|   |   |   |   |   |   |   |--- muerte >  0.05\n",
      "|   |   |   |   |   |   |   |   |--- class: 0\n",
      "|   |   |   |   |   |--- selección >  0.02\n",
      "|   |   |   |   |   |   |--- revisar <= 0.01\n",
      "|   |   |   |   |   |   |   |--- class: 6\n",
      "|   |   |   |   |   |   |--- revisar >  0.01\n",
      "|   |   |   |   |   |   |   |--- campeón <= 0.02\n",
      "|   |   |   |   |   |   |   |   |--- class: 5\n",
      "|   |   |   |   |   |   |   |--- campeón >  0.02\n",
      "|   |   |   |   |   |   |   |   |--- class: 0\n",
      "|   |   |   |   |--- creador >  0.04\n",
      "|   |   |   |   |   |--- zona <= 0.01\n",
      "|   |   |   |   |   |   |--- decir <= 0.01\n",
      "|   |   |   |   |   |   |   |--- class: 5\n",
      "|   |   |   |   |   |   |--- decir >  0.01\n",
      "|   |   |   |   |   |   |   |--- class: 6\n",
      "|   |   |   |   |   |--- zona >  0.01\n",
      "|   |   |   |   |   |   |--- class: 0\n",
      "|   |   |   |--- moda >  0.08\n",
      "|   |   |   |   |--- class: 6\n",
      "|   |   |--- admplayer >  0.03\n",
      "|   |   |   |--- plataforma <= 0.04\n",
      "|   |   |   |   |--- durar <= 0.05\n",
      "|   |   |   |   |   |--- class: 3\n",
      "|   |   |   |   |--- durar >  0.05\n",
      "|   |   |   |   |   |--- class: 5\n",
      "|   |   |   |--- plataforma >  0.04\n",
      "|   |   |   |   |--- class: 6\n",
      "|   |--- presidente >  0.11\n",
      "|   |   |--- playlist <= 0.18\n",
      "|   |   |   |--- class: 3\n",
      "|   |   |--- playlist >  0.18\n",
      "|   |   |   |--- class: 6\n",
      "\n"
     ]
    }
   ],
   "source": [
    "txt_representation = tree.export_text(decision_tree, feature_names=tfidf_vectorizer.get_feature_names(), max_depth=10)\n",
    "print(txt_representation)"
   ]
  },
  {
   "cell_type": "markdown",
   "metadata": {},
   "source": [
    "> En general este modelo ha sido el más deficiente de entre los modelos utilizados en este proyecto, solo logrando resultados aceptables para las categorías \"__cultura__\" y \"__deportes__\", pero nada excepcionalmente bueno, solo consiguiendo f1-scores de __71%__ y __70%__ respectivamente."
   ]
  },
  {
   "cell_type": "markdown",
   "metadata": {},
   "source": [
    "## Resultados"
   ]
  },
  {
   "cell_type": "code",
   "execution_count": 112,
   "metadata": {},
   "outputs": [
    {
     "name": "stdout",
     "output_type": "stream",
     "text": [
      "Predicted Logistic Regression [6 5 4 ... 1 2 5]\n",
      "Predicted Naïve Bayes [6 5 0 ... 1 2 5]\n",
      "Predicted Decision Tree [3 5 3 ... 1 6 5]\n"
     ]
    }
   ],
   "source": [
    "print(\"Predicted Logistic Regression\", predicted_logistic)\n",
    "\n",
    "print(\"Predicted Naïve Bayes\", predicted_nb)\n",
    "\n",
    "print(\"Predicted Decision Tree\", predicted_tree)"
   ]
  },
  {
   "cell_type": "markdown",
   "metadata": {},
   "source": [
    "### Accuracy"
   ]
  },
  {
   "cell_type": "code",
   "execution_count": 147,
   "metadata": {},
   "outputs": [
    {
     "name": "stdout",
     "output_type": "stream",
     "text": [
      "Logistic Regression 0.7868571428571428\n",
      "Naïve Bayes 0.776\n",
      "Decision Tree 0.5491428571428572\n"
     ]
    }
   ],
   "source": [
    "from sklearn.metrics import accuracy_score\n",
    "\n",
    "print(\"Logistic Regression\", accuracy_score(y_test, predicted_logistic))\n",
    "\n",
    "print(\"Naïve Bayes\", accuracy_score(y_test, predicted_nb))\n",
    "\n",
    "print(\"Decision Tree\", accuracy_score(y_test, predicted_tree))"
   ]
  },
  {
   "cell_type": "markdown",
   "metadata": {},
   "source": [
    "### Recall"
   ]
  },
  {
   "cell_type": "code",
   "execution_count": 151,
   "metadata": {},
   "outputs": [
    {
     "name": "stdout",
     "output_type": "stream",
     "text": [
      "Logistic Regression 0.7866115346185162\n",
      "Naïve Bayes 0.7760922454707203\n",
      "Decision Tree 0.5479244229945934\n"
     ]
    }
   ],
   "source": [
    "from sklearn.metrics import recall_score\n",
    "\n",
    "print(\"Logistic Regression\", recall_score(y_test, predicted_logistic, average=\"macro\"))\n",
    "\n",
    "print(\"Naïve Bayes\", recall_score(y_test, predicted_nb, average=\"macro\"))\n",
    "\n",
    "print(\"Decision Tree\", recall_score(y_test, predicted_tree, average=\"macro\"))"
   ]
  },
  {
   "cell_type": "markdown",
   "metadata": {},
   "source": [
    "### F1"
   ]
  },
  {
   "cell_type": "code",
   "execution_count": 149,
   "metadata": {},
   "outputs": [
    {
     "name": "stdout",
     "output_type": "stream",
     "text": [
      "Logistic Regression 0.7867670820951338\n",
      "Naïve Bayes 0.7681079755697746\n",
      "Decision Tree 0.5483080088106972\n"
     ]
    }
   ],
   "source": [
    "from sklearn.metrics import f1_score\n",
    "\n",
    "print(\"Logistic Regression\", f1_score(y_test, predicted_logistic, average=\"macro\"))\n",
    "\n",
    "print(\"Naïve Bayes\", f1_score(y_test, predicted_nb, average=\"macro\"))\n",
    "\n",
    "print(\"Decision Tree\", f1_score(y_test, predicted_tree, average=\"macro\"))"
   ]
  },
  {
   "cell_type": "code",
   "execution_count": 152,
   "metadata": {},
   "outputs": [
    {
     "data": {
      "text/plain": [
       "{0: 'cultura',\n",
       " 1: 'deportes',\n",
       " 2: 'economia',\n",
       " 3: 'mundo',\n",
       " 4: 'pais',\n",
       " 5: 'tecnologias',\n",
       " 6: 'tendencias'}"
      ]
     },
     "execution_count": 152,
     "metadata": {},
     "output_type": "execute_result"
    }
   ],
   "source": [
    "inv_category_mapping"
   ]
  },
  {
   "cell_type": "markdown",
   "metadata": {},
   "source": [
    "> En general podemos ver que tanto la \"__Regresión Logística__\" como \"__Naïve Bayes__\" funcionan relativamente bien sin mayores modificaciones ni manipulación de estos, aunque en general se puede ver que todos los modelos les cuesta clasificar en específico las categorías \"__mundo__\", \"__pais__\" y \"__tendencias__\", debiendose principalmente al hecho que las categorías mencionadas son considerablemente abstractas y sin características distintivas de palabras específicas que caracterizen a las categorías en específico, aunque el rendimiento de sus predicciones no son totalmente erroneas en general, y con precisión aceptable."
   ]
  }
 ],
 "metadata": {
  "kernelspec": {
   "display_name": "Python 3",
   "language": "python",
   "name": "python3"
  },
  "language_info": {
   "codemirror_mode": {
    "name": "ipython",
    "version": 3
   },
   "file_extension": ".py",
   "mimetype": "text/x-python",
   "name": "python",
   "nbconvert_exporter": "python",
   "pygments_lexer": "ipython3",
   "version": "3.8.3"
  }
 },
 "nbformat": 4,
 "nbformat_minor": 4
}
